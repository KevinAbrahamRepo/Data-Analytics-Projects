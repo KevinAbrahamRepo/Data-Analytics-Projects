{
 "cells": [
  {
   "cell_type": "markdown",
   "metadata": {},
   "source": [
    "# Traffic Data Cleansing & Curation"
   ]
  },
  {
   "cell_type": "markdown",
   "metadata": {},
   "source": [
    "Let's import the relevant datasets"
   ]
  },
  {
   "cell_type": "code",
   "execution_count": 1,
   "metadata": {},
   "outputs": [],
   "source": [
    "import numpy as np\n",
    "import pandas as pd\n",
    "import matplotlib.pyplot as plt\n",
    "import seaborn as sns\n",
    "#to make all outputs show\n",
    "from IPython.core.interactiveshell import InteractiveShell\n",
    "InteractiveShell.ast_node_interactivity = \"all\""
   ]
  },
  {
   "cell_type": "code",
   "execution_count": 2,
   "metadata": {},
   "outputs": [],
   "source": [
    "# !!! Rewrite local file path !!! \n",
    "file_1= 'Accident_Information.csv'\n",
    "file_2= 'Vehicle_Information.csv'\n",
    "\n",
    "report_1 = pd.read_csv(file_1, index_col = 0, low_memory = False)\n",
    "report_2 = pd.read_csv(file_2, encoding='latin1', index_col = 0, low_memory = False)\n"
   ]
  },
  {
   "cell_type": "code",
   "execution_count": 3,
   "metadata": {},
   "outputs": [
    {
     "data": {
      "text/plain": [
       "(2047256, 33)"
      ]
     },
     "execution_count": 3,
     "metadata": {},
     "output_type": "execute_result"
    }
   ],
   "source": [
    "report_1.shape"
   ]
  },
  {
   "cell_type": "code",
   "execution_count": 4,
   "metadata": {},
   "outputs": [
    {
     "data": {
      "text/plain": [
       "(2177205, 23)"
      ]
     },
     "execution_count": 4,
     "metadata": {},
     "output_type": "execute_result"
    }
   ],
   "source": [
    "report_2.shape"
   ]
  },
  {
   "cell_type": "code",
   "execution_count": 5,
   "metadata": {},
   "outputs": [
    {
     "data": {
      "text/html": [
       "<div>\n",
       "<style scoped>\n",
       "    .dataframe tbody tr th:only-of-type {\n",
       "        vertical-align: middle;\n",
       "    }\n",
       "\n",
       "    .dataframe tbody tr th {\n",
       "        vertical-align: top;\n",
       "    }\n",
       "\n",
       "    .dataframe thead th {\n",
       "        text-align: right;\n",
       "    }\n",
       "</style>\n",
       "<table border=\"1\" class=\"dataframe\">\n",
       "  <thead>\n",
       "    <tr style=\"text-align: right;\">\n",
       "      <th></th>\n",
       "      <th>1st_Road_Class</th>\n",
       "      <th>1st_Road_Number</th>\n",
       "      <th>2nd_Road_Class</th>\n",
       "      <th>2nd_Road_Number</th>\n",
       "      <th>Accident_Severity</th>\n",
       "      <th>Carriageway_Hazards</th>\n",
       "      <th>Date</th>\n",
       "      <th>Day_of_Week</th>\n",
       "      <th>Did_Police_Officer_Attend_Scene_of_Accident</th>\n",
       "      <th>Junction_Control</th>\n",
       "      <th>...</th>\n",
       "      <th>Police_Force</th>\n",
       "      <th>Road_Surface_Conditions</th>\n",
       "      <th>Road_Type</th>\n",
       "      <th>Special_Conditions_at_Site</th>\n",
       "      <th>Speed_limit</th>\n",
       "      <th>Time</th>\n",
       "      <th>Urban_or_Rural_Area</th>\n",
       "      <th>Weather_Conditions</th>\n",
       "      <th>Year</th>\n",
       "      <th>InScotland</th>\n",
       "    </tr>\n",
       "    <tr>\n",
       "      <th>Accident_Index</th>\n",
       "      <th></th>\n",
       "      <th></th>\n",
       "      <th></th>\n",
       "      <th></th>\n",
       "      <th></th>\n",
       "      <th></th>\n",
       "      <th></th>\n",
       "      <th></th>\n",
       "      <th></th>\n",
       "      <th></th>\n",
       "      <th></th>\n",
       "      <th></th>\n",
       "      <th></th>\n",
       "      <th></th>\n",
       "      <th></th>\n",
       "      <th></th>\n",
       "      <th></th>\n",
       "      <th></th>\n",
       "      <th></th>\n",
       "      <th></th>\n",
       "      <th></th>\n",
       "    </tr>\n",
       "  </thead>\n",
       "  <tbody>\n",
       "    <tr>\n",
       "      <th>200501BS00001</th>\n",
       "      <td>A</td>\n",
       "      <td>3218.0</td>\n",
       "      <td>NaN</td>\n",
       "      <td>0.0</td>\n",
       "      <td>Serious</td>\n",
       "      <td>None</td>\n",
       "      <td>2005-01-04</td>\n",
       "      <td>Tuesday</td>\n",
       "      <td>1.0</td>\n",
       "      <td>Data missing or out of range</td>\n",
       "      <td>...</td>\n",
       "      <td>Metropolitan Police</td>\n",
       "      <td>Wet or damp</td>\n",
       "      <td>Single carriageway</td>\n",
       "      <td>None</td>\n",
       "      <td>30.0</td>\n",
       "      <td>17:42</td>\n",
       "      <td>Urban</td>\n",
       "      <td>Raining no high winds</td>\n",
       "      <td>2005</td>\n",
       "      <td>No</td>\n",
       "    </tr>\n",
       "    <tr>\n",
       "      <th>200501BS00002</th>\n",
       "      <td>B</td>\n",
       "      <td>450.0</td>\n",
       "      <td>C</td>\n",
       "      <td>0.0</td>\n",
       "      <td>Slight</td>\n",
       "      <td>None</td>\n",
       "      <td>2005-01-05</td>\n",
       "      <td>Wednesday</td>\n",
       "      <td>1.0</td>\n",
       "      <td>Auto traffic signal</td>\n",
       "      <td>...</td>\n",
       "      <td>Metropolitan Police</td>\n",
       "      <td>Dry</td>\n",
       "      <td>Dual carriageway</td>\n",
       "      <td>None</td>\n",
       "      <td>30.0</td>\n",
       "      <td>17:36</td>\n",
       "      <td>Urban</td>\n",
       "      <td>Fine no high winds</td>\n",
       "      <td>2005</td>\n",
       "      <td>No</td>\n",
       "    </tr>\n",
       "  </tbody>\n",
       "</table>\n",
       "<p>2 rows × 33 columns</p>\n",
       "</div>"
      ],
      "text/plain": [
       "               1st_Road_Class  1st_Road_Number 2nd_Road_Class  \\\n",
       "Accident_Index                                                  \n",
       "200501BS00001               A           3218.0            NaN   \n",
       "200501BS00002               B            450.0              C   \n",
       "\n",
       "                2nd_Road_Number Accident_Severity Carriageway_Hazards  \\\n",
       "Accident_Index                                                          \n",
       "200501BS00001               0.0           Serious                None   \n",
       "200501BS00002               0.0            Slight                None   \n",
       "\n",
       "                      Date Day_of_Week  \\\n",
       "Accident_Index                           \n",
       "200501BS00001   2005-01-04     Tuesday   \n",
       "200501BS00002   2005-01-05   Wednesday   \n",
       "\n",
       "                Did_Police_Officer_Attend_Scene_of_Accident  \\\n",
       "Accident_Index                                                \n",
       "200501BS00001                                           1.0   \n",
       "200501BS00002                                           1.0   \n",
       "\n",
       "                            Junction_Control     ...             Police_Force  \\\n",
       "Accident_Index                                   ...                            \n",
       "200501BS00001   Data missing or out of range     ...      Metropolitan Police   \n",
       "200501BS00002            Auto traffic signal     ...      Metropolitan Police   \n",
       "\n",
       "                Road_Surface_Conditions           Road_Type  \\\n",
       "Accident_Index                                                \n",
       "200501BS00001               Wet or damp  Single carriageway   \n",
       "200501BS00002                       Dry    Dual carriageway   \n",
       "\n",
       "               Special_Conditions_at_Site Speed_limit   Time  \\\n",
       "Accident_Index                                                 \n",
       "200501BS00001                        None        30.0  17:42   \n",
       "200501BS00002                        None        30.0  17:36   \n",
       "\n",
       "                Urban_or_Rural_Area     Weather_Conditions  Year  InScotland  \n",
       "Accident_Index                                                                \n",
       "200501BS00001                 Urban  Raining no high winds  2005          No  \n",
       "200501BS00002                 Urban     Fine no high winds  2005          No  \n",
       "\n",
       "[2 rows x 33 columns]"
      ]
     },
     "execution_count": 5,
     "metadata": {},
     "output_type": "execute_result"
    },
    {
     "data": {
      "text/html": [
       "<div>\n",
       "<style scoped>\n",
       "    .dataframe tbody tr th:only-of-type {\n",
       "        vertical-align: middle;\n",
       "    }\n",
       "\n",
       "    .dataframe tbody tr th {\n",
       "        vertical-align: top;\n",
       "    }\n",
       "\n",
       "    .dataframe thead th {\n",
       "        text-align: right;\n",
       "    }\n",
       "</style>\n",
       "<table border=\"1\" class=\"dataframe\">\n",
       "  <thead>\n",
       "    <tr style=\"text-align: right;\">\n",
       "      <th></th>\n",
       "      <th>Age_Band_of_Driver</th>\n",
       "      <th>Age_of_Vehicle</th>\n",
       "      <th>Driver_Home_Area_Type</th>\n",
       "      <th>Driver_IMD_Decile</th>\n",
       "      <th>Engine_Capacity_.CC.</th>\n",
       "      <th>Hit_Object_in_Carriageway</th>\n",
       "      <th>Hit_Object_off_Carriageway</th>\n",
       "      <th>Journey_Purpose_of_Driver</th>\n",
       "      <th>Junction_Location</th>\n",
       "      <th>make</th>\n",
       "      <th>...</th>\n",
       "      <th>Skidding_and_Overturning</th>\n",
       "      <th>Towing_and_Articulation</th>\n",
       "      <th>Vehicle_Leaving_Carriageway</th>\n",
       "      <th>Vehicle_Location.Restricted_Lane</th>\n",
       "      <th>Vehicle_Manoeuvre</th>\n",
       "      <th>Vehicle_Reference</th>\n",
       "      <th>Vehicle_Type</th>\n",
       "      <th>Was_Vehicle_Left_Hand_Drive</th>\n",
       "      <th>X1st_Point_of_Impact</th>\n",
       "      <th>Year</th>\n",
       "    </tr>\n",
       "    <tr>\n",
       "      <th>Accident_Index</th>\n",
       "      <th></th>\n",
       "      <th></th>\n",
       "      <th></th>\n",
       "      <th></th>\n",
       "      <th></th>\n",
       "      <th></th>\n",
       "      <th></th>\n",
       "      <th></th>\n",
       "      <th></th>\n",
       "      <th></th>\n",
       "      <th></th>\n",
       "      <th></th>\n",
       "      <th></th>\n",
       "      <th></th>\n",
       "      <th></th>\n",
       "      <th></th>\n",
       "      <th></th>\n",
       "      <th></th>\n",
       "      <th></th>\n",
       "      <th></th>\n",
       "      <th></th>\n",
       "    </tr>\n",
       "  </thead>\n",
       "  <tbody>\n",
       "    <tr>\n",
       "      <th>200401BS00001</th>\n",
       "      <td>26 - 35</td>\n",
       "      <td>3.0</td>\n",
       "      <td>Urban area</td>\n",
       "      <td>4.0</td>\n",
       "      <td>1588.0</td>\n",
       "      <td>None</td>\n",
       "      <td>None</td>\n",
       "      <td>Data missing or out of range</td>\n",
       "      <td>Data missing or out of range</td>\n",
       "      <td>ROVER</td>\n",
       "      <td>...</td>\n",
       "      <td>None</td>\n",
       "      <td>No tow/articulation</td>\n",
       "      <td>Did not leave carriageway</td>\n",
       "      <td>0.0</td>\n",
       "      <td>Going ahead other</td>\n",
       "      <td>2</td>\n",
       "      <td>109</td>\n",
       "      <td>Data missing or out of range</td>\n",
       "      <td>Front</td>\n",
       "      <td>2004</td>\n",
       "    </tr>\n",
       "    <tr>\n",
       "      <th>200401BS00002</th>\n",
       "      <td>26 - 35</td>\n",
       "      <td>NaN</td>\n",
       "      <td>Urban area</td>\n",
       "      <td>3.0</td>\n",
       "      <td>NaN</td>\n",
       "      <td>None</td>\n",
       "      <td>None</td>\n",
       "      <td>Data missing or out of range</td>\n",
       "      <td>Data missing or out of range</td>\n",
       "      <td>BMW</td>\n",
       "      <td>...</td>\n",
       "      <td>None</td>\n",
       "      <td>No tow/articulation</td>\n",
       "      <td>Did not leave carriageway</td>\n",
       "      <td>0.0</td>\n",
       "      <td>Going ahead other</td>\n",
       "      <td>1</td>\n",
       "      <td>109</td>\n",
       "      <td>Data missing or out of range</td>\n",
       "      <td>Front</td>\n",
       "      <td>2004</td>\n",
       "    </tr>\n",
       "  </tbody>\n",
       "</table>\n",
       "<p>2 rows × 23 columns</p>\n",
       "</div>"
      ],
      "text/plain": [
       "               Age_Band_of_Driver  Age_of_Vehicle Driver_Home_Area_Type  \\\n",
       "Accident_Index                                                            \n",
       "200401BS00001             26 - 35             3.0            Urban area   \n",
       "200401BS00002             26 - 35             NaN            Urban area   \n",
       "\n",
       "                Driver_IMD_Decile  Engine_Capacity_.CC.  \\\n",
       "Accident_Index                                            \n",
       "200401BS00001                 4.0                1588.0   \n",
       "200401BS00002                 3.0                   NaN   \n",
       "\n",
       "               Hit_Object_in_Carriageway Hit_Object_off_Carriageway  \\\n",
       "Accident_Index                                                        \n",
       "200401BS00001                       None                       None   \n",
       "200401BS00002                       None                       None   \n",
       "\n",
       "                   Journey_Purpose_of_Driver             Junction_Location  \\\n",
       "Accident_Index                                                               \n",
       "200401BS00001   Data missing or out of range  Data missing or out of range   \n",
       "200401BS00002   Data missing or out of range  Data missing or out of range   \n",
       "\n",
       "                 make  ...  Skidding_and_Overturning Towing_and_Articulation  \\\n",
       "Accident_Index         ...                                                     \n",
       "200401BS00001   ROVER  ...                      None     No tow/articulation   \n",
       "200401BS00002     BMW  ...                      None     No tow/articulation   \n",
       "\n",
       "               Vehicle_Leaving_Carriageway Vehicle_Location.Restricted_Lane  \\\n",
       "Accident_Index                                                                \n",
       "200401BS00001    Did not leave carriageway                              0.0   \n",
       "200401BS00002    Did not leave carriageway                              0.0   \n",
       "\n",
       "                Vehicle_Manoeuvre Vehicle_Reference  Vehicle_Type  \\\n",
       "Accident_Index                                                      \n",
       "200401BS00001   Going ahead other                 2           109   \n",
       "200401BS00002   Going ahead other                 1           109   \n",
       "\n",
       "                 Was_Vehicle_Left_Hand_Drive  X1st_Point_of_Impact  Year  \n",
       "Accident_Index                                                            \n",
       "200401BS00001   Data missing or out of range                 Front  2004  \n",
       "200401BS00002   Data missing or out of range                 Front  2004  \n",
       "\n",
       "[2 rows x 23 columns]"
      ]
     },
     "execution_count": 5,
     "metadata": {},
     "output_type": "execute_result"
    }
   ],
   "source": [
    "report_1.head(2) #Accident\n",
    "report_2.head(2) #Vehicle\n"
   ]
  },
  {
   "cell_type": "code",
   "execution_count": 6,
   "metadata": {},
   "outputs": [
    {
     "data": {
      "text/html": [
       "<div>\n",
       "<style scoped>\n",
       "    .dataframe tbody tr th:only-of-type {\n",
       "        vertical-align: middle;\n",
       "    }\n",
       "\n",
       "    .dataframe tbody tr th {\n",
       "        vertical-align: top;\n",
       "    }\n",
       "\n",
       "    .dataframe thead th {\n",
       "        text-align: right;\n",
       "    }\n",
       "</style>\n",
       "<table border=\"1\" class=\"dataframe\">\n",
       "  <thead>\n",
       "    <tr style=\"text-align: right;\">\n",
       "      <th></th>\n",
       "      <th>1st_Road_Class</th>\n",
       "      <th>1st_Road_Number</th>\n",
       "      <th>2nd_Road_Class</th>\n",
       "      <th>2nd_Road_Number</th>\n",
       "      <th>Accident_Severity</th>\n",
       "      <th>Carriageway_Hazards</th>\n",
       "      <th>Date</th>\n",
       "      <th>Day_of_Week</th>\n",
       "      <th>Did_Police_Officer_Attend_Scene_of_Accident</th>\n",
       "      <th>Junction_Control</th>\n",
       "      <th>...</th>\n",
       "      <th>Skidding_and_Overturning</th>\n",
       "      <th>Towing_and_Articulation</th>\n",
       "      <th>Vehicle_Leaving_Carriageway</th>\n",
       "      <th>Vehicle_Location.Restricted_Lane</th>\n",
       "      <th>Vehicle_Manoeuvre</th>\n",
       "      <th>Vehicle_Reference</th>\n",
       "      <th>Vehicle_Type</th>\n",
       "      <th>Was_Vehicle_Left_Hand_Drive</th>\n",
       "      <th>X1st_Point_of_Impact</th>\n",
       "      <th>Year_y</th>\n",
       "    </tr>\n",
       "    <tr>\n",
       "      <th>Accident_Index</th>\n",
       "      <th></th>\n",
       "      <th></th>\n",
       "      <th></th>\n",
       "      <th></th>\n",
       "      <th></th>\n",
       "      <th></th>\n",
       "      <th></th>\n",
       "      <th></th>\n",
       "      <th></th>\n",
       "      <th></th>\n",
       "      <th></th>\n",
       "      <th></th>\n",
       "      <th></th>\n",
       "      <th></th>\n",
       "      <th></th>\n",
       "      <th></th>\n",
       "      <th></th>\n",
       "      <th></th>\n",
       "      <th></th>\n",
       "      <th></th>\n",
       "      <th></th>\n",
       "    </tr>\n",
       "  </thead>\n",
       "  <tbody>\n",
       "    <tr>\n",
       "      <th>200501BS00002</th>\n",
       "      <td>B</td>\n",
       "      <td>450.0</td>\n",
       "      <td>C</td>\n",
       "      <td>0.0</td>\n",
       "      <td>Slight</td>\n",
       "      <td>None</td>\n",
       "      <td>2005-01-05</td>\n",
       "      <td>Wednesday</td>\n",
       "      <td>1.0</td>\n",
       "      <td>Auto traffic signal</td>\n",
       "      <td>...</td>\n",
       "      <td>None</td>\n",
       "      <td>No tow/articulation</td>\n",
       "      <td>Did not leave carriageway</td>\n",
       "      <td>0.0</td>\n",
       "      <td>Slowing or stopping</td>\n",
       "      <td>1</td>\n",
       "      <td>Bus or coach (17 or more pass seats)</td>\n",
       "      <td>No</td>\n",
       "      <td>Nearside</td>\n",
       "      <td>2005</td>\n",
       "    </tr>\n",
       "    <tr>\n",
       "      <th>200501BS00003</th>\n",
       "      <td>C</td>\n",
       "      <td>0.0</td>\n",
       "      <td>NaN</td>\n",
       "      <td>0.0</td>\n",
       "      <td>Slight</td>\n",
       "      <td>None</td>\n",
       "      <td>2005-01-06</td>\n",
       "      <td>Thursday</td>\n",
       "      <td>1.0</td>\n",
       "      <td>Data missing or out of range</td>\n",
       "      <td>...</td>\n",
       "      <td>None</td>\n",
       "      <td>No tow/articulation</td>\n",
       "      <td>Did not leave carriageway</td>\n",
       "      <td>0.0</td>\n",
       "      <td>Going ahead right-hand bend</td>\n",
       "      <td>1</td>\n",
       "      <td>Bus or coach (17 or more pass seats)</td>\n",
       "      <td>No</td>\n",
       "      <td>Nearside</td>\n",
       "      <td>2005</td>\n",
       "    </tr>\n",
       "    <tr>\n",
       "      <th>200501BS00004</th>\n",
       "      <td>A</td>\n",
       "      <td>3220.0</td>\n",
       "      <td>NaN</td>\n",
       "      <td>0.0</td>\n",
       "      <td>Slight</td>\n",
       "      <td>None</td>\n",
       "      <td>2005-01-07</td>\n",
       "      <td>Friday</td>\n",
       "      <td>1.0</td>\n",
       "      <td>Data missing or out of range</td>\n",
       "      <td>...</td>\n",
       "      <td>None</td>\n",
       "      <td>No tow/articulation</td>\n",
       "      <td>Did not leave carriageway</td>\n",
       "      <td>0.0</td>\n",
       "      <td>Going ahead other</td>\n",
       "      <td>1</td>\n",
       "      <td>Car</td>\n",
       "      <td>No</td>\n",
       "      <td>Front</td>\n",
       "      <td>2005</td>\n",
       "    </tr>\n",
       "    <tr>\n",
       "      <th>200501BS00005</th>\n",
       "      <td>Unclassified</td>\n",
       "      <td>0.0</td>\n",
       "      <td>NaN</td>\n",
       "      <td>0.0</td>\n",
       "      <td>Slight</td>\n",
       "      <td>None</td>\n",
       "      <td>2005-01-10</td>\n",
       "      <td>Monday</td>\n",
       "      <td>1.0</td>\n",
       "      <td>Data missing or out of range</td>\n",
       "      <td>...</td>\n",
       "      <td>Skidded</td>\n",
       "      <td>No tow/articulation</td>\n",
       "      <td>Did not leave carriageway</td>\n",
       "      <td>0.0</td>\n",
       "      <td>Going ahead other</td>\n",
       "      <td>1</td>\n",
       "      <td>Motorcycle 125cc and under</td>\n",
       "      <td>No</td>\n",
       "      <td>Front</td>\n",
       "      <td>2005</td>\n",
       "    </tr>\n",
       "    <tr>\n",
       "      <th>200501BS00006</th>\n",
       "      <td>Unclassified</td>\n",
       "      <td>0.0</td>\n",
       "      <td>NaN</td>\n",
       "      <td>0.0</td>\n",
       "      <td>Slight</td>\n",
       "      <td>None</td>\n",
       "      <td>2005-01-11</td>\n",
       "      <td>Tuesday</td>\n",
       "      <td>1.0</td>\n",
       "      <td>Data missing or out of range</td>\n",
       "      <td>...</td>\n",
       "      <td>None</td>\n",
       "      <td>No tow/articulation</td>\n",
       "      <td>Did not leave carriageway</td>\n",
       "      <td>0.0</td>\n",
       "      <td>Moving off</td>\n",
       "      <td>1</td>\n",
       "      <td>Car</td>\n",
       "      <td>No</td>\n",
       "      <td>Did not impact</td>\n",
       "      <td>2005</td>\n",
       "    </tr>\n",
       "  </tbody>\n",
       "</table>\n",
       "<p>5 rows × 56 columns</p>\n",
       "</div>"
      ],
      "text/plain": [
       "               1st_Road_Class  1st_Road_Number 2nd_Road_Class  \\\n",
       "Accident_Index                                                  \n",
       "200501BS00002               B            450.0              C   \n",
       "200501BS00003               C              0.0            NaN   \n",
       "200501BS00004               A           3220.0            NaN   \n",
       "200501BS00005    Unclassified              0.0            NaN   \n",
       "200501BS00006    Unclassified              0.0            NaN   \n",
       "\n",
       "                2nd_Road_Number Accident_Severity Carriageway_Hazards  \\\n",
       "Accident_Index                                                          \n",
       "200501BS00002               0.0            Slight                None   \n",
       "200501BS00003               0.0            Slight                None   \n",
       "200501BS00004               0.0            Slight                None   \n",
       "200501BS00005               0.0            Slight                None   \n",
       "200501BS00006               0.0            Slight                None   \n",
       "\n",
       "                      Date Day_of_Week  \\\n",
       "Accident_Index                           \n",
       "200501BS00002   2005-01-05   Wednesday   \n",
       "200501BS00003   2005-01-06    Thursday   \n",
       "200501BS00004   2005-01-07      Friday   \n",
       "200501BS00005   2005-01-10      Monday   \n",
       "200501BS00006   2005-01-11     Tuesday   \n",
       "\n",
       "                Did_Police_Officer_Attend_Scene_of_Accident  \\\n",
       "Accident_Index                                                \n",
       "200501BS00002                                           1.0   \n",
       "200501BS00003                                           1.0   \n",
       "200501BS00004                                           1.0   \n",
       "200501BS00005                                           1.0   \n",
       "200501BS00006                                           1.0   \n",
       "\n",
       "                            Junction_Control   ...   Skidding_and_Overturning  \\\n",
       "Accident_Index                                 ...                              \n",
       "200501BS00002            Auto traffic signal   ...                       None   \n",
       "200501BS00003   Data missing or out of range   ...                       None   \n",
       "200501BS00004   Data missing or out of range   ...                       None   \n",
       "200501BS00005   Data missing or out of range   ...                    Skidded   \n",
       "200501BS00006   Data missing or out of range   ...                       None   \n",
       "\n",
       "                Towing_and_Articulation Vehicle_Leaving_Carriageway  \\\n",
       "Accident_Index                                                        \n",
       "200501BS00002       No tow/articulation   Did not leave carriageway   \n",
       "200501BS00003       No tow/articulation   Did not leave carriageway   \n",
       "200501BS00004       No tow/articulation   Did not leave carriageway   \n",
       "200501BS00005       No tow/articulation   Did not leave carriageway   \n",
       "200501BS00006       No tow/articulation   Did not leave carriageway   \n",
       "\n",
       "               Vehicle_Location.Restricted_Lane            Vehicle_Manoeuvre  \\\n",
       "Accident_Index                                                                 \n",
       "200501BS00002                               0.0          Slowing or stopping   \n",
       "200501BS00003                               0.0  Going ahead right-hand bend   \n",
       "200501BS00004                               0.0            Going ahead other   \n",
       "200501BS00005                               0.0            Going ahead other   \n",
       "200501BS00006                               0.0                   Moving off   \n",
       "\n",
       "                Vehicle_Reference                          Vehicle_Type  \\\n",
       "Accident_Index                                                            \n",
       "200501BS00002                   1  Bus or coach (17 or more pass seats)   \n",
       "200501BS00003                   1  Bus or coach (17 or more pass seats)   \n",
       "200501BS00004                   1                                   Car   \n",
       "200501BS00005                   1            Motorcycle 125cc and under   \n",
       "200501BS00006                   1                                   Car   \n",
       "\n",
       "                Was_Vehicle_Left_Hand_Drive X1st_Point_of_Impact  Year_y  \n",
       "Accident_Index                                                            \n",
       "200501BS00002                            No             Nearside    2005  \n",
       "200501BS00003                            No             Nearside    2005  \n",
       "200501BS00004                            No                Front    2005  \n",
       "200501BS00005                            No                Front    2005  \n",
       "200501BS00006                            No       Did not impact    2005  \n",
       "\n",
       "[5 rows x 56 columns]"
      ]
     },
     "execution_count": 6,
     "metadata": {},
     "output_type": "execute_result"
    }
   ],
   "source": [
    "#Let's inner merge the 2 files into 1 dataset.\n",
    "dataset = report_1.merge(report_2, on='Accident_Index', how='inner')\n",
    "dataset.head()\n"
   ]
  },
  {
   "cell_type": "code",
   "execution_count": 7,
   "metadata": {},
   "outputs": [
    {
     "data": {
      "text/html": [
       "<div>\n",
       "<style scoped>\n",
       "    .dataframe tbody tr th:only-of-type {\n",
       "        vertical-align: middle;\n",
       "    }\n",
       "\n",
       "    .dataframe tbody tr th {\n",
       "        vertical-align: top;\n",
       "    }\n",
       "\n",
       "    .dataframe thead th {\n",
       "        text-align: right;\n",
       "    }\n",
       "</style>\n",
       "<table border=\"1\" class=\"dataframe\">\n",
       "  <thead>\n",
       "    <tr style=\"text-align: right;\">\n",
       "      <th></th>\n",
       "      <th>1st_Road_Class</th>\n",
       "      <th>1st_Road_Number</th>\n",
       "      <th>2nd_Road_Class</th>\n",
       "      <th>2nd_Road_Number</th>\n",
       "      <th>Accident_Severity</th>\n",
       "      <th>Carriageway_Hazards</th>\n",
       "      <th>Date</th>\n",
       "      <th>Day_of_Week</th>\n",
       "      <th>Did_Police_Officer_Attend_Scene_of_Accident</th>\n",
       "      <th>Junction_Control</th>\n",
       "      <th>...</th>\n",
       "      <th>Skidding_and_Overturning</th>\n",
       "      <th>Towing_and_Articulation</th>\n",
       "      <th>Vehicle_Leaving_Carriageway</th>\n",
       "      <th>Vehicle_Location.Restricted_Lane</th>\n",
       "      <th>Vehicle_Manoeuvre</th>\n",
       "      <th>Vehicle_Reference</th>\n",
       "      <th>Vehicle_Type</th>\n",
       "      <th>Was_Vehicle_Left_Hand_Drive</th>\n",
       "      <th>X1st_Point_of_Impact</th>\n",
       "      <th>Year_y</th>\n",
       "    </tr>\n",
       "  </thead>\n",
       "  <tbody>\n",
       "    <tr>\n",
       "      <th>0</th>\n",
       "      <td>B</td>\n",
       "      <td>450.0</td>\n",
       "      <td>C</td>\n",
       "      <td>0.0</td>\n",
       "      <td>Slight</td>\n",
       "      <td>None</td>\n",
       "      <td>2005-01-05</td>\n",
       "      <td>Wednesday</td>\n",
       "      <td>1.0</td>\n",
       "      <td>Auto traffic signal</td>\n",
       "      <td>...</td>\n",
       "      <td>None</td>\n",
       "      <td>No tow/articulation</td>\n",
       "      <td>Did not leave carriageway</td>\n",
       "      <td>0.0</td>\n",
       "      <td>Slowing or stopping</td>\n",
       "      <td>1</td>\n",
       "      <td>Bus or coach (17 or more pass seats)</td>\n",
       "      <td>No</td>\n",
       "      <td>Nearside</td>\n",
       "      <td>2005</td>\n",
       "    </tr>\n",
       "    <tr>\n",
       "      <th>1</th>\n",
       "      <td>C</td>\n",
       "      <td>0.0</td>\n",
       "      <td>NaN</td>\n",
       "      <td>0.0</td>\n",
       "      <td>Slight</td>\n",
       "      <td>None</td>\n",
       "      <td>2005-01-06</td>\n",
       "      <td>Thursday</td>\n",
       "      <td>1.0</td>\n",
       "      <td>Data missing or out of range</td>\n",
       "      <td>...</td>\n",
       "      <td>None</td>\n",
       "      <td>No tow/articulation</td>\n",
       "      <td>Did not leave carriageway</td>\n",
       "      <td>0.0</td>\n",
       "      <td>Going ahead right-hand bend</td>\n",
       "      <td>1</td>\n",
       "      <td>Bus or coach (17 or more pass seats)</td>\n",
       "      <td>No</td>\n",
       "      <td>Nearside</td>\n",
       "      <td>2005</td>\n",
       "    </tr>\n",
       "  </tbody>\n",
       "</table>\n",
       "<p>2 rows × 56 columns</p>\n",
       "</div>"
      ],
      "text/plain": [
       "  1st_Road_Class  1st_Road_Number 2nd_Road_Class  2nd_Road_Number  \\\n",
       "0              B            450.0              C              0.0   \n",
       "1              C              0.0            NaN              0.0   \n",
       "\n",
       "  Accident_Severity Carriageway_Hazards        Date Day_of_Week  \\\n",
       "0            Slight                None  2005-01-05   Wednesday   \n",
       "1            Slight                None  2005-01-06    Thursday   \n",
       "\n",
       "   Did_Police_Officer_Attend_Scene_of_Accident              Junction_Control  \\\n",
       "0                                          1.0           Auto traffic signal   \n",
       "1                                          1.0  Data missing or out of range   \n",
       "\n",
       "    ...   Skidding_and_Overturning  Towing_and_Articulation  \\\n",
       "0   ...                       None      No tow/articulation   \n",
       "1   ...                       None      No tow/articulation   \n",
       "\n",
       "  Vehicle_Leaving_Carriageway Vehicle_Location.Restricted_Lane  \\\n",
       "0   Did not leave carriageway                              0.0   \n",
       "1   Did not leave carriageway                              0.0   \n",
       "\n",
       "             Vehicle_Manoeuvre  Vehicle_Reference  \\\n",
       "0          Slowing or stopping                  1   \n",
       "1  Going ahead right-hand bend                  1   \n",
       "\n",
       "                           Vehicle_Type  Was_Vehicle_Left_Hand_Drive  \\\n",
       "0  Bus or coach (17 or more pass seats)                           No   \n",
       "1  Bus or coach (17 or more pass seats)                           No   \n",
       "\n",
       "  X1st_Point_of_Impact  Year_y  \n",
       "0             Nearside    2005  \n",
       "1             Nearside    2005  \n",
       "\n",
       "[2 rows x 56 columns]"
      ]
     },
     "execution_count": 7,
     "metadata": {},
     "output_type": "execute_result"
    },
    {
     "data": {
      "text/plain": [
       "(2058408, 56)"
      ]
     },
     "execution_count": 7,
     "metadata": {},
     "output_type": "execute_result"
    }
   ],
   "source": [
    "#let's get rid of the accident index, as it is irrelevant to our analysis\n",
    "dataset.reset_index(inplace = True, drop = True)\n",
    "dataset.head(2)\n",
    "dataset.shape"
   ]
  },
  {
   "cell_type": "code",
   "execution_count": 8,
   "metadata": {},
   "outputs": [],
   "source": [
    "# Create 1st backup after merging complete dataset\n",
    "dataset_bk1 = dataset.copy()"
   ]
  },
  {
   "cell_type": "code",
   "execution_count": 9,
   "metadata": {},
   "outputs": [
    {
     "name": "stdout",
     "output_type": "stream",
     "text": [
      "<class 'pandas.core.frame.DataFrame'>\n",
      "RangeIndex: 2058408 entries, 0 to 2058407\n",
      "Data columns (total 56 columns):\n",
      "1st_Road_Class                                 object\n",
      "1st_Road_Number                                float64\n",
      "2nd_Road_Class                                 object\n",
      "2nd_Road_Number                                float64\n",
      "Accident_Severity                              object\n",
      "Carriageway_Hazards                            object\n",
      "Date                                           object\n",
      "Day_of_Week                                    object\n",
      "Did_Police_Officer_Attend_Scene_of_Accident    float64\n",
      "Junction_Control                               object\n",
      "Junction_Detail                                object\n",
      "Latitude                                       float64\n",
      "Light_Conditions                               object\n",
      "Local_Authority_(District)                     object\n",
      "Local_Authority_(Highway)                      object\n",
      "Location_Easting_OSGR                          float64\n",
      "Location_Northing_OSGR                         float64\n",
      "Longitude                                      float64\n",
      "LSOA_of_Accident_Location                      object\n",
      "Number_of_Casualties                           int64\n",
      "Number_of_Vehicles                             int64\n",
      "Pedestrian_Crossing-Human_Control              float64\n",
      "Pedestrian_Crossing-Physical_Facilities        float64\n",
      "Police_Force                                   object\n",
      "Road_Surface_Conditions                        object\n",
      "Road_Type                                      object\n",
      "Special_Conditions_at_Site                     object\n",
      "Speed_limit                                    float64\n",
      "Time                                           object\n",
      "Urban_or_Rural_Area                            object\n",
      "Weather_Conditions                             object\n",
      "Year_x                                         int64\n",
      "InScotland                                     object\n",
      "Age_Band_of_Driver                             object\n",
      "Age_of_Vehicle                                 float64\n",
      "Driver_Home_Area_Type                          object\n",
      "Driver_IMD_Decile                              float64\n",
      "Engine_Capacity_.CC.                           float64\n",
      "Hit_Object_in_Carriageway                      object\n",
      "Hit_Object_off_Carriageway                     object\n",
      "Journey_Purpose_of_Driver                      object\n",
      "Junction_Location                              object\n",
      "make                                           object\n",
      "model                                          object\n",
      "Propulsion_Code                                object\n",
      "Sex_of_Driver                                  object\n",
      "Skidding_and_Overturning                       object\n",
      "Towing_and_Articulation                        object\n",
      "Vehicle_Leaving_Carriageway                    object\n",
      "Vehicle_Location.Restricted_Lane               float64\n",
      "Vehicle_Manoeuvre                              object\n",
      "Vehicle_Reference                              int64\n",
      "Vehicle_Type                                   object\n",
      "Was_Vehicle_Left_Hand_Drive                    object\n",
      "X1st_Point_of_Impact                           object\n",
      "Year_y                                         int64\n",
      "dtypes: float64(14), int64(5), object(37)\n",
      "memory usage: 879.4+ MB\n"
     ]
    }
   ],
   "source": [
    "#let's take a general look at the variables involved\n",
    "dataset.info()"
   ]
  },
  {
   "cell_type": "code",
   "execution_count": 10,
   "metadata": {},
   "outputs": [
    {
     "data": {
      "text/plain": [
       "1st_Road_Number                                     1\n",
       "2nd_Road_Class                                 827937\n",
       "2nd_Road_Number                                 18927\n",
       "Did_Police_Officer_Attend_Scene_of_Accident       114\n",
       "Latitude                                          124\n",
       "Location_Easting_OSGR                             124\n",
       "Location_Northing_OSGR                            124\n",
       "Longitude                                         125\n",
       "LSOA_of_Accident_Location                      139207\n",
       "Pedestrian_Crossing-Human_Control                 654\n",
       "Pedestrian_Crossing-Physical_Facilities          1370\n",
       "Speed_limit                                        65\n",
       "Time                                              146\n",
       "InScotland                                         44\n",
       "Age_of_Vehicle                                 337962\n",
       "Driver_IMD_Decile                              689290\n",
       "Engine_Capacity_.CC.                           250317\n",
       "make                                           110845\n",
       "model                                          299357\n",
       "Propulsion_Code                                233598\n",
       "Vehicle_Location.Restricted_Lane                 1124\n",
       "dtype: int64"
      ]
     },
     "execution_count": 10,
     "metadata": {},
     "output_type": "execute_result"
    }
   ],
   "source": [
    "#let's take a closer look at nulls within columns\n",
    "null_columns=dataset.columns[dataset.isnull().any()]\n",
    "dataset[null_columns].isnull().sum() "
   ]
  },
  {
   "cell_type": "markdown",
   "metadata": {},
   "source": [
    "**Accident_severity** has no null values , which is great because that is our target variable.\n",
    "\n",
    "We will need to drop variables that are unnecessary:\n",
    "- Since we have **latitude and longitude**, the following are redundant:\n",
    "    - 1st_Road_Number\n",
    "    - 2nd_Road_Number\n",
    "    - LSOA_of_Accident_Location\n",
    "    - Location_Easting_OSGR\n",
    "    - Location_Northing_OSGR\n",
    "\n",
    "We will need to drop variables that mostly contain missing values:\n",
    "- 2nd_Road_Class\n",
    "- Driver_IMD_Decile\n",
    "\n",
    "For variables that contain only a few missing values, we can either drop those records or replace them. Let's drop for now.\n",
    "*(Typically, we would substitute numeric nulls with mean/median/mode. However, given the low volume of nulls and our need to make accurate recommendations to the UK government with as least unnecessary assumptions as possible, we can safely drop records that still contain nulls)*\n",
    "\n",
    "\n",
    "\n"
   ]
  },
  {
   "cell_type": "code",
   "execution_count": 11,
   "metadata": {},
   "outputs": [],
   "source": [
    "#drop variables that are either redundant or unecessary\n",
    "dataset.drop(\"1st_Road_Number\", axis=1, inplace=True)\n",
    "dataset.drop(\"2nd_Road_Number\", axis=1, inplace=True)\n",
    "dataset.drop(\"LSOA_of_Accident_Location\", axis=1, inplace=True)\n",
    "dataset.drop(\"Location_Easting_OSGR\", axis=1, inplace=True)\n",
    "dataset.drop(\"Location_Northing_OSGR\", axis=1, inplace=True)\n",
    "\n",
    "#drop variables that mostly contain missing values\n",
    "dataset.drop(\"2nd_Road_Class\", axis=1, inplace=True)\n",
    "dataset.drop(\"Driver_IMD_Decile\", axis=1, inplace=True)"
   ]
  },
  {
   "cell_type": "code",
   "execution_count": 12,
   "metadata": {},
   "outputs": [
    {
     "data": {
      "text/plain": [
       "(2058408, 49)"
      ]
     },
     "execution_count": 12,
     "metadata": {},
     "output_type": "execute_result"
    }
   ],
   "source": [
    "dataset.shape"
   ]
  },
  {
   "cell_type": "code",
   "execution_count": 13,
   "metadata": {},
   "outputs": [],
   "source": [
    "# Drop rows with any missing values\n",
    "dataset.dropna(how='any',inplace=True)"
   ]
  },
  {
   "cell_type": "code",
   "execution_count": 14,
   "metadata": {},
   "outputs": [
    {
     "data": {
      "text/plain": [
       "(1555129, 49)"
      ]
     },
     "execution_count": 14,
     "metadata": {},
     "output_type": "execute_result"
    }
   ],
   "source": [
    "dataset.shape"
   ]
  },
  {
   "cell_type": "markdown",
   "metadata": {},
   "source": [
    "Even though about a quarter or our records were dropped, we are still left with **1.5 million** records to analyze.\n",
    "Now that our data is clean of nulls, let's examine some trends."
   ]
  },
  {
   "cell_type": "code",
   "execution_count": 15,
   "metadata": {},
   "outputs": [
    {
     "data": {
      "text/html": [
       "<div>\n",
       "<style scoped>\n",
       "    .dataframe tbody tr th:only-of-type {\n",
       "        vertical-align: middle;\n",
       "    }\n",
       "\n",
       "    .dataframe tbody tr th {\n",
       "        vertical-align: top;\n",
       "    }\n",
       "\n",
       "    .dataframe thead th {\n",
       "        text-align: right;\n",
       "    }\n",
       "</style>\n",
       "<table border=\"1\" class=\"dataframe\">\n",
       "  <thead>\n",
       "    <tr style=\"text-align: right;\">\n",
       "      <th></th>\n",
       "      <th>1st_Road_Class</th>\n",
       "      <th>Accident_Severity</th>\n",
       "      <th>Carriageway_Hazards</th>\n",
       "      <th>Date</th>\n",
       "      <th>Day_of_Week</th>\n",
       "      <th>Did_Police_Officer_Attend_Scene_of_Accident</th>\n",
       "      <th>Junction_Control</th>\n",
       "      <th>Junction_Detail</th>\n",
       "      <th>Latitude</th>\n",
       "      <th>Light_Conditions</th>\n",
       "      <th>...</th>\n",
       "      <th>Skidding_and_Overturning</th>\n",
       "      <th>Towing_and_Articulation</th>\n",
       "      <th>Vehicle_Leaving_Carriageway</th>\n",
       "      <th>Vehicle_Location.Restricted_Lane</th>\n",
       "      <th>Vehicle_Manoeuvre</th>\n",
       "      <th>Vehicle_Reference</th>\n",
       "      <th>Vehicle_Type</th>\n",
       "      <th>Was_Vehicle_Left_Hand_Drive</th>\n",
       "      <th>X1st_Point_of_Impact</th>\n",
       "      <th>Year_y</th>\n",
       "    </tr>\n",
       "  </thead>\n",
       "  <tbody>\n",
       "    <tr>\n",
       "      <th>2</th>\n",
       "      <td>A</td>\n",
       "      <td>Slight</td>\n",
       "      <td>None</td>\n",
       "      <td>2005-01-07</td>\n",
       "      <td>Friday</td>\n",
       "      <td>1.0</td>\n",
       "      <td>Data missing or out of range</td>\n",
       "      <td>Not at junction or within 20 metres</td>\n",
       "      <td>51.482442</td>\n",
       "      <td>Daylight</td>\n",
       "      <td>...</td>\n",
       "      <td>None</td>\n",
       "      <td>No tow/articulation</td>\n",
       "      <td>Did not leave carriageway</td>\n",
       "      <td>0.0</td>\n",
       "      <td>Going ahead other</td>\n",
       "      <td>1</td>\n",
       "      <td>Car</td>\n",
       "      <td>No</td>\n",
       "      <td>Front</td>\n",
       "      <td>2005</td>\n",
       "    </tr>\n",
       "    <tr>\n",
       "      <th>4</th>\n",
       "      <td>Unclassified</td>\n",
       "      <td>Slight</td>\n",
       "      <td>None</td>\n",
       "      <td>2005-01-11</td>\n",
       "      <td>Tuesday</td>\n",
       "      <td>1.0</td>\n",
       "      <td>Data missing or out of range</td>\n",
       "      <td>Not at junction or within 20 metres</td>\n",
       "      <td>51.515540</td>\n",
       "      <td>Daylight</td>\n",
       "      <td>...</td>\n",
       "      <td>None</td>\n",
       "      <td>No tow/articulation</td>\n",
       "      <td>Did not leave carriageway</td>\n",
       "      <td>0.0</td>\n",
       "      <td>Moving off</td>\n",
       "      <td>1</td>\n",
       "      <td>Car</td>\n",
       "      <td>No</td>\n",
       "      <td>Did not impact</td>\n",
       "      <td>2005</td>\n",
       "    </tr>\n",
       "  </tbody>\n",
       "</table>\n",
       "<p>2 rows × 49 columns</p>\n",
       "</div>"
      ],
      "text/plain": [
       "  1st_Road_Class Accident_Severity Carriageway_Hazards        Date  \\\n",
       "2              A            Slight                None  2005-01-07   \n",
       "4   Unclassified            Slight                None  2005-01-11   \n",
       "\n",
       "  Day_of_Week  Did_Police_Officer_Attend_Scene_of_Accident  \\\n",
       "2      Friday                                          1.0   \n",
       "4     Tuesday                                          1.0   \n",
       "\n",
       "               Junction_Control                      Junction_Detail  \\\n",
       "2  Data missing or out of range  Not at junction or within 20 metres   \n",
       "4  Data missing or out of range  Not at junction or within 20 metres   \n",
       "\n",
       "    Latitude Light_Conditions  ...   Skidding_and_Overturning  \\\n",
       "2  51.482442         Daylight  ...                       None   \n",
       "4  51.515540         Daylight  ...                       None   \n",
       "\n",
       "  Towing_and_Articulation  Vehicle_Leaving_Carriageway  \\\n",
       "2     No tow/articulation    Did not leave carriageway   \n",
       "4     No tow/articulation    Did not leave carriageway   \n",
       "\n",
       "   Vehicle_Location.Restricted_Lane  Vehicle_Manoeuvre  Vehicle_Reference  \\\n",
       "2                               0.0  Going ahead other                  1   \n",
       "4                               0.0         Moving off                  1   \n",
       "\n",
       "   Vehicle_Type Was_Vehicle_Left_Hand_Drive X1st_Point_of_Impact Year_y  \n",
       "2           Car                          No                Front   2005  \n",
       "4           Car                          No       Did not impact   2005  \n",
       "\n",
       "[2 rows x 49 columns]"
      ]
     },
     "execution_count": 15,
     "metadata": {},
     "output_type": "execute_result"
    }
   ],
   "source": [
    "dataset.head(2)"
   ]
  },
  {
   "cell_type": "code",
   "execution_count": 16,
   "metadata": {},
   "outputs": [],
   "source": [
    "# Set a standard format for 'Date' for EDA\n",
    "dataset['Date']= pd.to_datetime(dataset['Date'], format=\"%Y-%m-%d\")"
   ]
  },
  {
   "cell_type": "code",
   "execution_count": 17,
   "metadata": {},
   "outputs": [
    {
     "name": "stdout",
     "output_type": "stream",
     "text": [
      "<class 'pandas.core.frame.DataFrame'>\n",
      "Int64Index: 1555129 entries, 2 to 2058407\n",
      "Data columns (total 1 columns):\n",
      "Date    1555129 non-null datetime64[ns]\n",
      "dtypes: datetime64[ns](1)\n",
      "memory usage: 23.7 MB\n"
     ]
    }
   ],
   "source": [
    "# Check for column datatype\n",
    "dataset.iloc[:, 3:4].info()"
   ]
  },
  {
   "cell_type": "markdown",
   "metadata": {},
   "source": [
    "let's look further into some categoric vairables' values and see if they make sense."
   ]
  },
  {
   "cell_type": "code",
   "execution_count": 19,
   "metadata": {},
   "outputs": [
    {
     "data": {
      "text/plain": [
       "array(['A', 'Unclassified', 'C', 'B', 'Motorway', 'A(M)'], dtype=object)"
      ]
     },
     "execution_count": 19,
     "metadata": {},
     "output_type": "execute_result"
    },
    {
     "data": {
      "text/plain": [
       "array(['Slight', 'Serious', 'Fatal'], dtype=object)"
      ]
     },
     "execution_count": 19,
     "metadata": {},
     "output_type": "execute_result"
    },
    {
     "data": {
      "text/plain": [
       "array(['None', 'Other object on road',\n",
       "       'Pedestrian in carriageway - not injured', 'Previous accident',\n",
       "       'Vehicle load on road',\n",
       "       'Any animal in carriageway (except ridden horse)',\n",
       "       'Data missing or out of range'], dtype=object)"
      ]
     },
     "execution_count": 19,
     "metadata": {},
     "output_type": "execute_result"
    },
    {
     "data": {
      "text/plain": [
       "array(['Friday', 'Tuesday', 'Thursday', 'Sunday', 'Saturday', 'Wednesday',\n",
       "       'Monday'], dtype=object)"
      ]
     },
     "execution_count": 19,
     "metadata": {},
     "output_type": "execute_result"
    },
    {
     "data": {
      "text/plain": [
       "array(['Data missing or out of range', 'Give way or uncontrolled',\n",
       "       'Auto traffic signal', 'Stop sign', 'Authorised person',\n",
       "       'Not at junction or within 20 metres'], dtype=object)"
      ]
     },
     "execution_count": 19,
     "metadata": {},
     "output_type": "execute_result"
    },
    {
     "data": {
      "text/plain": [
       "array(['Not at junction or within 20 metres', 'T or staggered junction',\n",
       "       'Crossroads', 'Mini-roundabout', 'Private drive or entrance',\n",
       "       'More than 4 arms (not roundabout)', 'Roundabout',\n",
       "       'Other junction', 'Slip road', 'Data missing or out of range'],\n",
       "      dtype=object)"
      ]
     },
     "execution_count": 19,
     "metadata": {},
     "output_type": "execute_result"
    },
    {
     "data": {
      "text/plain": [
       "array(['Daylight', 'Darkness - lights lit', 'Darkness - lights unlit',\n",
       "       'Darkness - lighting unknown', 'Darkness - no lighting',\n",
       "       'Data missing or out of range'], dtype=object)"
      ]
     },
     "execution_count": 19,
     "metadata": {},
     "output_type": "execute_result"
    },
    {
     "data": {
      "text/plain": [
       "array(['Kensington and Chelsea', 'Hammersmith and Fulham', 'Westminster',\n",
       "       'City of London', 'Hackney', 'Islington', 'Camden', 'Brent',\n",
       "       'Haringey', 'Barnet', 'Richmond upon Thames', 'Ealing',\n",
       "       'Tower Hamlets', 'Hillingdon', 'London Airport (Heathrow)',\n",
       "       'Hounslow', 'Waltham Forest', 'Redbridge', 'Barking and Dagenham',\n",
       "       'Newham', 'Havering', 'Lambeth', 'Southwark', 'Croydon',\n",
       "       'Wandsworth', 'Lewisham', 'Bromley', 'Bexley', 'Harrow',\n",
       "       'Greenwich', 'Enfield', 'Kingston upon Thames', 'Merton', 'Sutton',\n",
       "       'South Lakeland', 'Barrow-in-Furness', 'Carlisle', 'Eden',\n",
       "       'Allerdale', 'Copeland', 'Blackpool', 'Fylde', 'Lancaster',\n",
       "       'Blackburn with Darwen', 'Preston', 'Wyre', 'West Lancashire',\n",
       "       'South Ribble', 'Chorley', 'Hyndburn', 'Ribble Valley', 'Pendle',\n",
       "       'Rossendale', 'Burnley', 'Wirral', 'Sefton', 'Knowsley',\n",
       "       'Liverpool', 'St. Helens', 'Manchester', 'Salford', 'Rochdale',\n",
       "       'Trafford', 'Stockport', 'Wigan', 'Tameside', 'Bolton', 'Bury',\n",
       "       'Oldham', 'Warrington', 'Crewe and Nantwich', 'Halton',\n",
       "       'Ellesmere Port and Neston', 'Vale Royal', 'Chester',\n",
       "       'Macclesfield', 'Congleton', 'Newcastle upon Tyne', 'Sunderland',\n",
       "       'North Tyneside', 'Wansbeck', 'Blyth Valley', 'South Tyneside',\n",
       "       'Tynedale', 'Gateshead', 'Alnwick', 'Castle Morpeth',\n",
       "       'Berwick-upon-Tweed', 'Wear Valley', 'Sedgefield', 'Durham',\n",
       "       'Easington', 'Chester-le-Street', 'Derwentside', 'Teesdale',\n",
       "       'Darlington', 'Ryedale', 'York', 'Craven', 'Scarborough',\n",
       "       'Hambleton', 'Harrogate', 'Selby', 'Richmondshire', 'Kirklees',\n",
       "       'Leeds', 'Bradford', 'Wakefield', 'Calderdale', 'Doncaster',\n",
       "       'Barnsley', 'Sheffield', 'Rotherham', 'North East Lincolnshire',\n",
       "       'North Lincolnshire', 'East Riding of Yorkshire',\n",
       "       'Kingston upon Hull, City of', 'Hartlepool',\n",
       "       'Redcar and Cleveland', 'Middlesbrough', 'Stockton-on-Tees',\n",
       "       'Birmingham', 'Wolverhampton', 'Walsall', 'Dudley', 'Sandwell',\n",
       "       'Solihull', 'Coventry', 'Stoke-on-Trent', 'Newcastle-under-Lyme',\n",
       "       'Stafford', 'Staffordshire Moorlands', 'East Staffordshire',\n",
       "       'Cannock Chase', 'South Staffordshire', 'Lichfield', 'Tamworth',\n",
       "       'Worcester', 'Wychavon', 'Malvern Hills', 'Wyre Forest',\n",
       "       'Bromsgrove', 'Redditch', 'Herefordshire, County of',\n",
       "       'Shrewsbury and Atcham', 'Oswestry', 'Telford and Wrekin',\n",
       "       'South Shropshire', 'Bridgnorth', 'North Shropshire',\n",
       "       'Stratford-upon-Avon', 'Warwick', 'North Warwickshire',\n",
       "       'Nuneaton and Bedworth', 'Rugby', 'Amber Valley', 'Erewash',\n",
       "       'Bolsover', 'Derbyshire Dales', 'High Peak',\n",
       "       'North East Derbyshire', 'Chesterfield', 'South Derbyshire',\n",
       "       'Derby', 'Mansfield', 'Ashfield', 'Bassetlaw',\n",
       "       'Newark and Sherwood', 'Rushcliffe', 'Nottingham', 'Gedling',\n",
       "       'Broxtowe', 'South Kesteven', 'South Holland', 'North Kesteven',\n",
       "       'East Lindsey', 'West Lindsey', 'Boston', 'Lincoln', 'Harborough',\n",
       "       'Leicester', 'Charnwood', 'North West Leicestershire', 'Rutland',\n",
       "       'Blaby', 'Oadby and Wigston', 'Melton', 'Hinckley and Bosworth',\n",
       "       'Kettering', 'Corby', 'East Northamptonshire', 'Daventry',\n",
       "       'South Northamptonshire', 'Northampton', 'Wellingborough',\n",
       "       'South Cambridgeshire', 'Huntingdonshire', 'Peterborough',\n",
       "       'East Cambridgeshire', 'Cambridge', 'Fenland', 'Great Yarmouth',\n",
       "       \"King's Lynn and West Norfolk\", 'Broadland', 'South Norfolk',\n",
       "       'Breckland', 'Norwich', 'North Norfolk', 'St. Edmundsbury',\n",
       "       'Suffolk Coastal', 'Babergh', 'Mid Suffolk', 'Forest Heath',\n",
       "       'Ipswich', 'Waveney', 'Bedford', 'Mid Bedfordshire', 'Luton',\n",
       "       'South Bedfordshire', 'East Hertfordshire', 'North Hertfordshire',\n",
       "       'Welwyn Hatfield', 'Broxbourne', 'Watford', 'Hertsmere',\n",
       "       'Three Rivers', 'Dacorum', 'Stevenage', 'St. Albans', 'Uttlesford',\n",
       "       'Braintree', 'Colchester', 'Epping Forest', 'Basildon',\n",
       "       'Chelmsford', 'Thurrock', 'Maldon', 'Brentwood', 'Tendring',\n",
       "       'Harlow', 'Southend-on-Sea', 'Castle Point', 'Rochford',\n",
       "       'Aylesbury Vale', 'Wycombe', 'South Bucks', 'Milton Keynes',\n",
       "       'Chiltern', 'Slough', 'Cherwell', 'Vale of White Horse',\n",
       "       'South Oxfordshire', 'West Oxfordshire', 'Oxford',\n",
       "       'West Berkshire', 'Bracknell Forest', 'Reading',\n",
       "       'Windsor and Maidenhead', 'Wokingham', 'Gosport', 'Winchester',\n",
       "       'Isle of Wight', 'New Forest', 'Fareham', 'Test Valley',\n",
       "       'Rushmoor', 'Basingstoke and Deane', 'Havant', 'Portsmouth',\n",
       "       'Eastleigh', 'Hart', 'East Hampshire', 'Southampton', 'Elmbridge',\n",
       "       'Runnymede', 'Spelthorne', 'Guildford', 'Mole Valley',\n",
       "       'Epsom and Ewell', 'Reigate and Banstead', 'Woking',\n",
       "       'Surrey Heath', 'Waverley', 'Tandridge', 'Medway', 'Dartford',\n",
       "       'Sevenoaks', 'Dover', 'Shepway', 'Canterbury', 'Tunbridge Wells',\n",
       "       'Tonbridge and Malling', 'Maidstone', 'Swale', 'Ashford', 'Thanet',\n",
       "       'Gravesham', 'Wealden', 'Eastbourne', 'Rother',\n",
       "       'Brighton and Hove', 'Mid Sussex', 'Chichester', 'Worthing',\n",
       "       'Arun', 'Lewes', 'Crawley', 'Adur', 'Hastings', 'Horsham',\n",
       "       'Kerrier', 'Carrick', 'Penwith', 'Restormel', 'North Cornwall',\n",
       "       'West Devon', 'Caradon', 'Torridge', 'North Devon', 'Exeter',\n",
       "       'East Devon', 'Teignbridge', 'Mid Devon', 'Plymouth', 'South Hams',\n",
       "       'Torbay', 'Bristol, City of', 'Sedgemoor',\n",
       "       'Bath and North East Somerset', 'Mendip', 'South Gloucestershire',\n",
       "       'Taunton Deane', 'South Somerset', 'North Somerset',\n",
       "       'West Somerset', 'Stroud', 'Gloucester', 'Tewkesbury',\n",
       "       'Forest of Dean', 'Cotswold', 'Cheltenham', 'Salisbury', 'Kennet',\n",
       "       'West Wiltshire', 'North Wiltshire', 'Swindon', 'Bournemouth',\n",
       "       'Poole', 'North Dorset', 'East Dorset', 'Christchurch', 'Purbeck',\n",
       "       'West Dorset', 'Weymouth and Portland', 'Isle of Anglesey',\n",
       "       'Conwy', 'Denbighshire', 'Flintshire', 'Gwynedd', 'Wrexham',\n",
       "       'Caerphilly', 'Monmouthshire', 'Torfaen', 'Blaenau Gwent',\n",
       "       'Newport', 'Swansea', 'Bridgend', 'Cardiff', 'Neath Port Talbot',\n",
       "       'Merthyr Tydfil', 'The Vale of Glamorgan', 'Rhondda, Cynon, Taff',\n",
       "       'Carmarthenshire', 'Ceredigion', 'Pembrokeshire', 'Powys',\n",
       "       'Highland', 'Western Isles', 'Orkney Islands', 'Shetland Islands',\n",
       "       'Aberdeen City', 'Aberdeenshire', 'Moray', 'Perth and Kinross',\n",
       "       'Angus', 'Dundee City', 'Fife', 'Edinburgh, City of',\n",
       "       'Scottish Borders', 'West Lothian', 'Midlothian', 'East Lothian',\n",
       "       'Stirling', 'Falkirk', 'Clackmannanshire', 'Glasgow City',\n",
       "       'East Dunbartonshire', 'East Renfrewshire', 'Renfrewshire',\n",
       "       'Inverclyde', 'West Dunbartonshire', 'Argyll and Bute',\n",
       "       'North Lanarkshire', 'South Lanarkshire', 'North Ayrshire',\n",
       "       'East Ayrshire', 'South Ayrshire', 'Dumfries and Galloway',\n",
       "       'Cheshire East', 'Cheshire West and Chester', 'Northumberland',\n",
       "       'County Durham', 'Shropshire', 'Central Bedfordshire', 'Cornwall',\n",
       "       'Wiltshire'], dtype=object)"
      ]
     },
     "execution_count": 19,
     "metadata": {},
     "output_type": "execute_result"
    },
    {
     "data": {
      "text/plain": [
       "array(['Kensington and Chelsea', 'Hammersmith and Fulham', 'Westminster',\n",
       "       'City of London', 'Hackney', 'Islington', 'Camden', 'Brent',\n",
       "       'Haringey', 'Barnet', 'Richmond upon Thames', 'Ealing',\n",
       "       'Tower Hamlets', 'Hillingdon', 'London Airport (Heathrow)',\n",
       "       'Hounslow', 'Waltham Forest', 'Redbridge', 'Barking and Dagenham',\n",
       "       'Newham', 'Havering', 'Lambeth', 'Southwark', 'Croydon',\n",
       "       'Wandsworth', 'Lewisham', 'Bromley', 'Bexley', 'Harrow',\n",
       "       'Greenwich', 'Enfield', 'Kingston upon Thames', 'Merton', 'Sutton',\n",
       "       'Cumbria', 'Blackpool', 'Lancashire', 'Blackburn with Darwen',\n",
       "       'Wirral', 'Sefton', 'Knowsley', 'Liverpool', 'St. Helens',\n",
       "       'Manchester', 'Salford', 'Rochdale', 'Trafford', 'Stockport',\n",
       "       'Wigan', 'Tameside', 'Bolton', 'Bury', 'Oldham', 'Warrington',\n",
       "       'Cheshire East', 'Halton', 'Cheshire West and Chester',\n",
       "       'Newcastle upon Tyne', 'Sunderland', 'North Tyneside',\n",
       "       'Northumberland', 'South Tyneside', 'Gateshead', 'County Durham',\n",
       "       'Darlington', 'North Yorkshire', 'York', 'Kirklees', 'Leeds',\n",
       "       'Bradford', 'Wakefield', 'Calderdale', 'Doncaster', 'Barnsley',\n",
       "       'Sheffield', 'Rotherham', 'North East Lincolnshire',\n",
       "       'North Lincolnshire', 'East Riding of Yorkshire',\n",
       "       'Kingston upon Hull, City of', 'Hartlepool',\n",
       "       'Redcar and Cleveland', 'Middlesbrough', 'Stockton-on-Tees',\n",
       "       'Birmingham', 'Wolverhampton', 'Walsall', 'Dudley', 'Sandwell',\n",
       "       'Solihull', 'Coventry', 'Stoke-on-Trent', 'Staffordshire',\n",
       "       'Worcestershire', 'Herefordshire, County of', 'Shropshire',\n",
       "       'Telford and Wrekin', 'Warwickshire', 'Derbyshire', 'Derby',\n",
       "       'Nottinghamshire', 'Nottingham', 'Lincolnshire', 'Leicestershire',\n",
       "       'Leicester', 'Rutland', 'Northamptonshire', 'Cambridgeshire',\n",
       "       'Peterborough', 'Norfolk', 'Suffolk', 'Bedford',\n",
       "       'Central Bedfordshire', 'Luton', 'Hertfordshire', 'Essex',\n",
       "       'Thurrock', 'Southend-on-Sea', 'Buckinghamshire', 'Milton Keynes',\n",
       "       'Slough', 'Oxfordshire', 'West Berkshire', 'Bracknell Forest',\n",
       "       'Reading', 'Windsor and Maidenhead', 'Wokingham', 'Hampshire',\n",
       "       'Isle of Wight', 'Portsmouth', 'Southampton', 'Surrey', 'Medway',\n",
       "       'Kent', 'East Sussex', 'Brighton and Hove', 'West Sussex',\n",
       "       'Cornwall', 'Devon', 'Plymouth', 'Torbay', 'Bristol, City of',\n",
       "       'Somerset', 'Bath and North East Somerset',\n",
       "       'South Gloucestershire', 'North Somerset', 'Gloucestershire',\n",
       "       'Wiltshire', 'Swindon', 'Bournemouth', 'Poole', 'Dorset',\n",
       "       'Isle of Anglesey', 'Conwy', 'Denbighshire', 'Flintshire',\n",
       "       'Gwynedd', 'Wrexham', 'Caerphilly', 'Monmouthshire', 'Torfaen',\n",
       "       'Blaenau Gwent', 'Newport', 'Swansea', 'Bridgend', 'Cardiff',\n",
       "       'Neath Port Talbot', 'Merthyr Tydfil', 'The Vale of Glamorgan',\n",
       "       'Rhondda, Cynon, Taff', 'Carmarthenshire', 'Ceredigion',\n",
       "       'Pembrokeshire', 'Powys', 'Highland',\n",
       "       'Na h-Eileanan an Iar (Western Isles)', 'Orkney Islands',\n",
       "       'Shetland Islands', 'Aberdeen City', 'Aberdeenshire', 'Moray',\n",
       "       'Perth and Kinross', 'Angus', 'Dundee City', 'Fife',\n",
       "       'Edinburgh, City of', 'Scottish Borders', 'West Lothian',\n",
       "       'Midlothian', 'East Lothian', 'Stirling', 'Falkirk',\n",
       "       'Clackmannanshire', 'Glasgow City', 'East Dunbartonshire',\n",
       "       'East Renfrewshire', 'Renfrewshire', 'Inverclyde',\n",
       "       'West Dunbartonshire', 'Argyll & Bute', 'North Lanarkshire',\n",
       "       'South Lanarkshire', 'North Ayrshire', 'East Ayrshire',\n",
       "       'South Ayrshire', 'Dumfries & Galloway', 'Isles of Scilly'],\n",
       "      dtype=object)"
      ]
     },
     "execution_count": 19,
     "metadata": {},
     "output_type": "execute_result"
    },
    {
     "data": {
      "text/plain": [
       "array(['Metropolitan Police', 'City of London', 'Cumbria', 'Lancashire',\n",
       "       'Merseyside', 'Greater Manchester', 'Cheshire', 'Northumbria',\n",
       "       'Durham', 'North Yorkshire', 'West Yorkshire', 'South Yorkshire',\n",
       "       'Humberside', 'Cleveland', 'West Midlands', 'Staffordshire',\n",
       "       'West Mercia', 'Warwickshire', 'Derbyshire', 'Nottinghamshire',\n",
       "       'Lincolnshire', 'Leicestershire', 'Northamptonshire',\n",
       "       'Cambridgeshire', 'Norfolk', 'Suffolk', 'Bedfordshire',\n",
       "       'Hertfordshire', 'Essex', 'Thames Valley', 'Hampshire', 'Surrey',\n",
       "       'Kent', 'Sussex', 'Devon and Cornwall', 'Avon and Somerset',\n",
       "       'Gloucestershire', 'Wiltshire', 'Dorset', 'North Wales', 'Gwent',\n",
       "       'South Wales', 'Dyfed-Powys', 'Northern', 'Grampian', 'Tayside',\n",
       "       'Fife', 'Lothian and Borders', 'Central', 'Strathclyde',\n",
       "       'Dumfries and Galloway'], dtype=object)"
      ]
     },
     "execution_count": 19,
     "metadata": {},
     "output_type": "execute_result"
    },
    {
     "data": {
      "text/plain": [
       "array(['Dry', 'Wet or damp', 'Snow', 'Frost or ice',\n",
       "       'Flood over 3cm. deep', 'Data missing or out of range'],\n",
       "      dtype=object)"
      ]
     },
     "execution_count": 19,
     "metadata": {},
     "output_type": "execute_result"
    },
    {
     "data": {
      "text/plain": [
       "array(['Single carriageway', 'Dual carriageway', 'One way street',\n",
       "       'Roundabout', 'Slip road', 'Unknown'], dtype=object)"
      ]
     },
     "execution_count": 19,
     "metadata": {},
     "output_type": "execute_result"
    },
    {
     "data": {
      "text/plain": [
       "array(['None', 'Oil or diesel', 'Auto signal part defective', 'Roadworks',\n",
       "       'Road surface defective', 'Auto traffic signal - out',\n",
       "       'Road sign or marking defective or obscured', 'Mud',\n",
       "       'Data missing or out of range'], dtype=object)"
      ]
     },
     "execution_count": 19,
     "metadata": {},
     "output_type": "execute_result"
    },
    {
     "data": {
      "text/plain": [
       "array(['Urban', 'Rural', 'Unallocated'], dtype=object)"
      ]
     },
     "execution_count": 19,
     "metadata": {},
     "output_type": "execute_result"
    },
    {
     "data": {
      "text/plain": [
       "array(['Fine no high winds', 'Raining no high winds',\n",
       "       'Snowing no high winds', 'Fine + high winds', 'Other', 'Unknown',\n",
       "       'Raining + high winds', 'Fog or mist', 'Snowing + high winds',\n",
       "       'Data missing or out of range'], dtype=object)"
      ]
     },
     "execution_count": 19,
     "metadata": {},
     "output_type": "execute_result"
    },
    {
     "data": {
      "text/plain": [
       "array(['No', 'Yes'], dtype=object)"
      ]
     },
     "execution_count": 19,
     "metadata": {},
     "output_type": "execute_result"
    },
    {
     "data": {
      "text/plain": [
       "array(['46 - 55', '26 - 35', '36 - 45', '66 - 75', '16 - 20', '56 - 65',\n",
       "       'Data missing or out of range', '21 - 25', 'Over 75', '11 - 15',\n",
       "       '6 - 10', '0 - 5'], dtype=object)"
      ]
     },
     "execution_count": 19,
     "metadata": {},
     "output_type": "execute_result"
    },
    {
     "data": {
      "text/plain": [
       "array(['Urban area', 'Data missing or out of range', 'Small town',\n",
       "       'Rural'], dtype=object)"
      ]
     },
     "execution_count": 19,
     "metadata": {},
     "output_type": "execute_result"
    },
    {
     "data": {
      "text/plain": [
       "array(['None', 'Bollard or refuge', 'Open door of vehicle', 'Kerb',\n",
       "       'Parked vehicle', 'Previous accident', 'Other object',\n",
       "       'Road works', 'Central island of roundabout', 'Bridge (side)',\n",
       "       'Any animal (except ridden horse)', 'Bridge (roof)',\n",
       "       'Data missing or out of range'], dtype=object)"
      ]
     },
     "execution_count": 19,
     "metadata": {},
     "output_type": "execute_result"
    },
    {
     "data": {
      "text/plain": [
       "array(['None', 'Road sign or traffic signal', 'Other permanent object',\n",
       "       'Lamp post', 'Central crash barrier', 'Near/Offside crash barrier',\n",
       "       'Tree', 'Bus stop or bus shelter', 'Entered ditch',\n",
       "       'Telegraph or electricity pole', 'Submerged in water',\n",
       "       'Data missing or out of range', 'Wall or fence'], dtype=object)"
      ]
     },
     "execution_count": 19,
     "metadata": {},
     "output_type": "execute_result"
    },
    {
     "data": {
      "text/plain": [
       "array(['Other/Not known (2005-10)', 'Journey as part of work',\n",
       "       'Commuting to/from work', 'Pupil riding to/from school',\n",
       "       'Taking pupil to/from school', 'Data missing or out of range',\n",
       "       'Not known', 'Other'], dtype=object)"
      ]
     },
     "execution_count": 19,
     "metadata": {},
     "output_type": "execute_result"
    },
    {
     "data": {
      "text/plain": [
       "array(['Not at or within 20 metres of junction',\n",
       "       'Approaching junction or waiting/parked at junction approach',\n",
       "       'Mid Junction - on roundabout or on main road',\n",
       "       'Cleared junction or waiting/parked at junction exit',\n",
       "       'Leaving roundabout', 'Entering main road',\n",
       "       'Entering from slip road', 'Leaving main road',\n",
       "       'Entering roundabout', 'Data missing or out of range'],\n",
       "      dtype=object)"
      ]
     },
     "execution_count": 19,
     "metadata": {},
     "output_type": "execute_result"
    },
    {
     "data": {
      "text/plain": [
       "array(['NISSAN', 'AUDI', 'PIAGGIO', 'MERCEDES', 'JAGUAR', 'FORD', 'MCC',\n",
       "       'BMW', 'PEUGEOT', 'HONDA', 'VAUXHALL', 'ROVER', 'LOTUS', 'SUZUKI',\n",
       "       'SAAB', 'LONDON TAXIS INT', 'SUBARU', 'KAWASAKI', 'HYUNDAI',\n",
       "       'LAND ROVER', 'VOLKSWAGEN', 'CITROEN', 'MINI', 'DUCATI', 'DAEWOO',\n",
       "       'FIAT', 'METROCAB', 'YAMAHA', 'GILERA', 'RENAULT', 'MITSUBISHI',\n",
       "       'TOYOTA', 'BUELL', 'TRIUMPH', 'PORSCHE', 'VOLVO', 'JEEP',\n",
       "       'ASTON MARTIN', 'ALFA ROMEO', 'MG', 'TVR', 'SEAT', 'KIA',\n",
       "       'CHRYSLER', 'SMART', 'SKODA', 'TAIWAN GOLDEN BEE', 'TAISHAN',\n",
       "       'PROTON', 'MAZDA', 'HARLEY-DAVIDSON', 'KYMCO', 'LEXUS', 'KTM',\n",
       "       'ISUZU TRUCKS', 'MOTO ROMA', 'CCM', 'MALAGUTI', 'JIALING', 'SYM',\n",
       "       'ISUZU', 'DAIHATSU', 'DAF TRUCKS', 'BRANSON', 'PGO', 'LDV',\n",
       "       'BENTLEY', 'AUSTIN', 'LADA', 'AUTO-TRAIL', 'PERODUA', 'Z Y MOTOR',\n",
       "       'HILLMAN', 'DATSUN', 'LEYLAND DAF', 'APRILIA', 'CAGIVA',\n",
       "       'CHEVROLET GMC', 'ITALJET', 'BAOTIAN', 'MASERATI', 'MORRIS',\n",
       "       'DAIMLER', 'OPEL', 'IVECO', 'MOTOR HISPANIA', 'HER CHE', 'RELIANT',\n",
       "       'LEYLAND CARS', 'SANTANA', 'SSANGYONG', 'CHITUMA', 'JINLUN',\n",
       "       'ALL WHEEL DRIVE', 'MBK', 'ROYAL ENFIELD', 'EASY RIDER', 'TALBOT',\n",
       "       'FSO CARS', 'MV AGUSTA', 'TATA', 'MICROCAR', 'SACHS', 'OPTARE',\n",
       "       'GAS GAS', 'FMC', 'LANCIA', 'DAELIM', 'FREIGHT ROVER', 'MORGAN',\n",
       "       'MOTO GUZZI', 'SUKIDA', 'SHERCO', 'RIEJU', 'FERRARI', 'HIMO',\n",
       "       'ZASTAVA', 'KINLON', 'IVECO FORD', 'BEDFORD', 'AUSTIN MORRIS',\n",
       "       'BENELLI', 'BAJAJ', 'ADLY', 'ROLLS ROYCE', 'HONGYI', 'IRIS.BUS',\n",
       "       'CHEVROLET', 'GIANTCO', 'MODENAS', 'HYOSUNG', 'DAF', 'EVT',\n",
       "       'CADILLAC', 'SMC', 'DAJIANG', 'LIFAN', 'AIXAM', 'ASIA', 'WOLSELEY',\n",
       "       'CPI', 'MAXUS', 'JENSEN', 'KAZUMA', 'URAL', 'KEEN', 'SHE LUNG',\n",
       "       'LAMBRETTA', 'LAVERDA', 'YIBEN MEIDUC', 'CKR', 'VICTORY', 'VOR',\n",
       "       'AXR', 'DIRT PRO', 'GEELY', 'DODGE (USA)', 'BETTER', 'DERBI',\n",
       "       'SKYTEAM', 'THUMPSTAR', 'QINGQI', 'XINGYUE', 'KINROAD', 'AJS',\n",
       "       'HAOTIAN', 'YIYING', 'SHINERAY', 'LINHAI', 'LONGJIA',\n",
       "       'BRITISH TRACKSTAR', 'NORTON', 'RHON', 'VENTURI', 'HARTFORD',\n",
       "       'SIMCA', 'KAISAR', 'SUPERBYKE', 'TAMORETTI', 'WANGYE', 'KEEWAY',\n",
       "       'SONIK', 'SKYGO', 'MOTO MORINI', 'HUSQVARNA', 'HUATIAN', 'HONGDOU',\n",
       "       'ROVIGO', 'WUYANG', 'BASHAN', 'HUMMER', 'FYM', 'HUSABERG',\n",
       "       'MITSUBISHI FUSO', 'CARBODIES', 'LONCIN', 'LML', 'SINSKI',\n",
       "       'RENAULT TRUCKS', 'URBAN', 'HUONIAO', 'MZ', 'GENERIC', 'SANBEN',\n",
       "       'MEGELLI', 'TEC', 'POLARIS', 'DINLI', 'SIAMOTO', 'LAMBORGHINI',\n",
       "       'ZENNCO', 'ZONGSHEN', 'NEOPLAN', 'BARON', 'BUICK', 'QUADZILLA',\n",
       "       'VESPA (DOUGLAS)', 'ZNEN', 'SITCAR', 'LEYLAND', 'JINCHENG', 'POR',\n",
       "       'BOVA', 'VULCAN', 'BAROSSA', 'ABARTH', 'SFMM', 'CAN-AM', 'BEELINE',\n",
       "       'SANYA', 'XINLING', 'PULSE', 'JM STAR', 'LEXMOTO', 'LEIKE',\n",
       "       'LINCOLN', 'LIGIER', 'DAYUN', 'YUAN', 'NECHT', 'FEIYING',\n",
       "       'PIONEER', 'HUMBER', 'WARTBURG', 'RILEY', 'CSR', 'INFINITI',\n",
       "       'WK BIKES', 'WRIGHTBUS', 'CF MOTO', 'WHITE KNUCKLE', 'JOHN DEERE',\n",
       "       'ZONTES', 'BRISTOL', 'CAETANO', 'SKYJET', 'HANWAY', 'NECO',\n",
       "       'SUZUKO', 'DACIA', 'FOSTI', 'NIPPONIA', 'SFM', 'CTM', 'JIANSHE',\n",
       "       'MGXPOWER', 'JCM', 'SINNIS', 'CHUNLAN', 'VAN HOOL',\n",
       "       'HERALD MOTOR COMPANY', 'JCB', 'KSR MOTO', 'VDL', 'HONLEY',\n",
       "       'MOTOBI', 'BETA', 'JAWA', 'BOND', 'REWACO', 'IRIZAR', 'JONWAY',\n",
       "       'NIPPI', 'TM', 'MAHINDRA', 'BIMOTA', 'INDIAN', 'OTHER BRITISH',\n",
       "       'LONDON TAXIS INT.', 'ALEXANDER DENNIS', 'MAN', 'SCANIA', 'DODGE',\n",
       "       'DENNIS', 'IVECO-FORD', 'TGB', 'OTHER ITALIAN',\n",
       "       'JOHNSTON SWEEPERS', 'TOMOS', 'DS', 'TRANSBUS INT', 'MAYBACH',\n",
       "       'SANLI', 'OTHER FRENCH', 'MOTORHISPANIA', 'XGJAO', 'HINO',\n",
       "       'ZHONGYU', 'FODEN', 'NEW HOLLAND', 'AUSTIN HEALEY', 'AVIA',\n",
       "       'SCOMADI', 'KASEA', 'BSA', 'BARONI', 'MANITOU', 'SAME', 'SCORPA',\n",
       "       'RIS BUS', 'ERF', 'NORTON VILLIERS', 'YUTONG', 'CLAAS',\n",
       "       'CASE INTERNATIONAL', 'OTHER AGRIC/CONSTRUCTIONAL', 'LIEBHERR',\n",
       "       'ETON', 'MOTORINI', 'BMC', 'DENNIS FIRE', 'SCAMMELL', 'MATCHLESS',\n",
       "       'SECMA', 'ACCESS', 'ISEKI', 'KUBOTA', 'MCCORMICK', 'MERLO',\n",
       "       'JINLIN', 'TAFE', 'SETRA', 'YIBEN MEIDUO', 'CHAMP',\n",
       "       'OTHER COUNTRIES', 'ZETOR', 'BTM', 'SEDDON/ATKINSON', 'LANDINI',\n",
       "       'DEUTZ FAHR', 'ENFIELD', 'DFSK', 'GARELLI', 'BRISTOL (BLMC)',\n",
       "       'ACURA', 'ZHONGNENG', 'OTHER US/AUST/CAN', 'MASSEY FERGUSON',\n",
       "       'JIM STAR', 'HUONIAU', 'CZ', 'CIMOTORHOME', 'VELOCETTE', 'HYMER',\n",
       "       'BOMBARDIER', 'PANTHER', 'KATO', 'R-VISION', 'CATERHAM', 'BULTACO',\n",
       "       'SUNBEAM', 'OTHER JAPANESE/ASIAN', 'ERIK BUELL RACING', 'FARBOUD'],\n",
       "      dtype=object)"
      ]
     },
     "execution_count": 19,
     "metadata": {},
     "output_type": "execute_result"
    },
    {
     "data": {
      "text/plain": [
       "array(['ALMERA SE AUTO', 'A4 SPORT CABRIOLET AUTO', 'VESPA ET4', ...,\n",
       "       'FA XF95.430', 'DAILY 35 C14 MWB', 'STRALIS AD260S33Y/PS S-A'],\n",
       "      dtype=object)"
      ]
     },
     "execution_count": 19,
     "metadata": {},
     "output_type": "execute_result"
    },
    {
     "data": {
      "text/plain": [
       "array(['Petrol', 'Heavy oil', 'Hybrid electric', 'Gas/Bi-fuel',\n",
       "       'Petrol/Gas (LPG)', 'Gas', 'New fuel technology', 'Gas Diesel',\n",
       "       'Electric diesel'], dtype=object)"
      ]
     },
     "execution_count": 19,
     "metadata": {},
     "output_type": "execute_result"
    },
    {
     "data": {
      "text/plain": [
       "array(['Female', 'Male', 'Not known', 'Data missing or out of range'],\n",
       "      dtype=object)"
      ]
     },
     "execution_count": 19,
     "metadata": {},
     "output_type": "execute_result"
    },
    {
     "data": {
      "text/plain": [
       "array(['None', 'Skidded', 'Overturned', 'Skidded and overturned',\n",
       "       'Data missing or out of range', 'Jackknifed',\n",
       "       'Jackknifed and overturned'], dtype=object)"
      ]
     },
     "execution_count": 19,
     "metadata": {},
     "output_type": "execute_result"
    },
    {
     "data": {
      "text/plain": [
       "array(['No tow/articulation', 'Other tow', 'Single trailer',\n",
       "       'Articulated vehicle', 'Caravan', 'Double or multiple trailer',\n",
       "       'Data missing or out of range'], dtype=object)"
      ]
     },
     "execution_count": 19,
     "metadata": {},
     "output_type": "execute_result"
    },
    {
     "data": {
      "text/plain": [
       "array(['Did not leave carriageway', 'Nearside', 'Offside',\n",
       "       'Straight ahead at junction', 'Offside on to central reservation',\n",
       "       'Offside - crossed central reservation',\n",
       "       'Offside on to centrl res + rebounded', 'Nearside and rebounded',\n",
       "       'Offside and rebounded', 'Data missing or out of range'],\n",
       "      dtype=object)"
      ]
     },
     "execution_count": 19,
     "metadata": {},
     "output_type": "execute_result"
    },
    {
     "data": {
      "text/plain": [
       "array(['Going ahead other', 'Moving off', 'Parked', 'Turning left',\n",
       "       'Turning right', 'Overtaking moving vehicle - offside', 'U-turn',\n",
       "       'Waiting to go - held up', 'Overtaking static vehicle - offside',\n",
       "       'Waiting to turn right', 'Going ahead left-hand bend',\n",
       "       'Changing lane to right', 'Slowing or stopping',\n",
       "       'Changing lane to left', 'Reversing', 'Overtaking - nearside',\n",
       "       'Going ahead right-hand bend', 'Waiting to turn left',\n",
       "       'Data missing or out of range'], dtype=object)"
      ]
     },
     "execution_count": 19,
     "metadata": {},
     "output_type": "execute_result"
    },
    {
     "data": {
      "text/plain": [
       "array(['Car', 'Motorcycle 125cc and under', 'Motorcycle over 500cc',\n",
       "       'Motorcycle over 125cc and up to 500cc', 'Taxi/Private hire car',\n",
       "       'Motorcycle 50cc and under', 'Van / Goods 3.5 tonnes mgw or under',\n",
       "       'Minibus (8 - 16 passenger seats)',\n",
       "       'Goods 7.5 tonnes mgw and over', 'Goods over 3.5t. and under 7.5t',\n",
       "       'Other vehicle', 'Bus or coach (17 or more pass seats)',\n",
       "       'Agricultural vehicle', 'Motorcycle - unknown cc',\n",
       "       'Goods vehicle - unknown weight', 'Electric motorcycle'],\n",
       "      dtype=object)"
      ]
     },
     "execution_count": 19,
     "metadata": {},
     "output_type": "execute_result"
    },
    {
     "data": {
      "text/plain": [
       "array(['No', 'Yes', 'Data missing or out of range'], dtype=object)"
      ]
     },
     "execution_count": 19,
     "metadata": {},
     "output_type": "execute_result"
    },
    {
     "data": {
      "text/plain": [
       "array(['Front', 'Did not impact', 'Back', 'Offside', 'Nearside',\n",
       "       'Data missing or out of range'], dtype=object)"
      ]
     },
     "execution_count": 19,
     "metadata": {},
     "output_type": "execute_result"
    }
   ],
   "source": [
    "dataset[\"1st_Road_Class\"].unique()  #unknowns: 'Unclassified'\n",
    "dataset[\"Accident_Severity\"].unique() #need to reclassify into binary variable for model simplification\n",
    "dataset[\"Carriageway_Hazards\"].unique() #unknowns: 'Data missing or out of range'\n",
    "#dataset[\"Date\"].unique()\n",
    "dataset[\"Day_of_Week\"].unique()\n",
    "dataset[\"Junction_Control\"].unique() #unknowns: 'Data missing or out of range'\n",
    "dataset[\"Junction_Detail\"].unique() #unknowns: 'Data missing or out of range'\n",
    "dataset[\"Light_Conditions\"].unique() #unknowns: 'Data missing or out of range'\n",
    "dataset[\"Local_Authority_(District)\"].unique() #too many categories! might be unnecessary\n",
    "dataset[\"Local_Authority_(Highway)\"].unique() #too many categories! might be unnecessary\n",
    "dataset[\"Police_Force\"].unique()\n",
    "dataset[\"Road_Surface_Conditions\"].unique() #unknowns: 'Data missing or out of range'\n",
    "dataset[\"Road_Type\"].unique() #unknowns: 'Unknown'\n",
    "dataset[\"Special_Conditions_at_Site\"].unique() #unknowns: 'Data missing or out of range'\n",
    "#dataset[\"Time\"].unique()\n",
    "dataset[\"Urban_or_Rural_Area\"].unique() #unknowns: 'Unallocated' ... is that really unknown?\n",
    "dataset[\"Weather_Conditions\"].unique() #unknowns: 'Other', 'Unknown','Data missing or out of range'\n",
    "dataset[\"InScotland\"].unique() #might be an unnecessary location column\n",
    "dataset[\"Age_Band_of_Driver\"].unique() #unknowns/non-sensical data: 'Data missing or out of range','11 - 15','6 - 10', '0 - 5'\n",
    "dataset[\"Driver_Home_Area_Type\"].unique() #unknowns: 'Data missing or out of range'\n",
    "dataset[\"Hit_Object_in_Carriageway\"].unique() #unknowns: 'Data missing or out of range'\n",
    "dataset[\"Hit_Object_off_Carriageway\"].unique() #unknowns: 'Data missing or out of range'\n",
    "dataset[\"Journey_Purpose_of_Driver\"].unique() #unknowns: 'Other/Not known (2005-10)','Data missing or out of range','Not known','Other'\n",
    "dataset[\"Junction_Location\"].unique() #unknowns: 'Data missing or out of range'\n",
    "dataset[\"make\"].unique() #too many categories!\n",
    "dataset[\"model\"].unique() #too many categories!\n",
    "dataset[\"Propulsion_Code\"].unique()\n",
    "dataset[\"Sex_of_Driver\"].unique() #unknowns: 'Not known', 'Data missing or out of range'\n",
    "dataset[\"Skidding_and_Overturning\"].unique() #unknowns: 'Data missing or out of range'\n",
    "dataset[\"Towing_and_Articulation\"].unique() #unknowns: 'Data missing or out of range'\n",
    "dataset[\"Vehicle_Leaving_Carriageway\"].unique() #unknowns: 'Data missing or out of range'\n",
    "dataset[\"Vehicle_Manoeuvre\"].unique() #unknowns: 'Data missing or out of range'\n",
    "dataset[\"Vehicle_Type\"].unique()\n",
    "dataset[\"Was_Vehicle_Left_Hand_Drive\"].unique() #unknowns: 'Data missing or out of range'\n",
    "dataset[\"X1st_Point_of_Impact\"].unique() #unknowns: 'Data missing or out of range'"
   ]
  },
  {
   "cell_type": "code",
   "execution_count": 20,
   "metadata": {},
   "outputs": [
    {
     "name": "stdout",
     "output_type": "stream",
     "text": [
      "1st_Road_Class : 412850\n",
      "Carriageway_Hazards : 98\n",
      "Junction_Control : 558205\n",
      "Junction_Detail : 30\n",
      "Light_Conditions : 9\n",
      "Road_Surface_Conditions : 2022\n",
      "Road_Type : 7320\n",
      "Special_Conditions_at_Site : 110\n",
      "Urban_or_Rural_Area : 15\n",
      "Weather_Conditions : 58394\n",
      "Age_Band_of_Driver : 107721\n",
      "Driver_Home_Area_Type : 196154\n",
      "Hit_Object_in_Carriageway : 95\n",
      "Hit_Object_off_Carriageway : 19\n",
      "Journey_Purpose_of_Driver : 1157832\n",
      "Junction_Location : 1955\n",
      "Sex_of_Driver : 41936\n",
      "Skidding_and_Overturning : 109\n",
      "Towing_and_Articulation : 167\n",
      "Vehicle_Leaving_Carriageway : 66\n",
      "Vehicle_Manoeuvre : 234\n",
      "Was_Vehicle_Left_Hand_Drive : 5784\n",
      "X1st_Point_of_Impact : 279\n"
     ]
    }
   ],
   "source": [
    "print(\"1st_Road_Class\",\":\",(dataset[\"1st_Road_Class\"]=='Unclassified').sum())\n",
    "print(\"Carriageway_Hazards\",\":\",(dataset[\"Carriageway_Hazards\"]=='Data missing or out of range').sum())\n",
    "print(\"Junction_Control\",\":\",(dataset[\"Junction_Control\"]=='Data missing or out of range').sum())\n",
    "print(\"Junction_Detail\",\":\",(dataset[\"Junction_Detail\"]=='Data missing or out of range').sum())\n",
    "print(\"Light_Conditions\",\":\",(dataset[\"Light_Conditions\"]=='Data missing or out of range').sum())\n",
    "print(\"Road_Surface_Conditions\",\":\",(dataset[\"Road_Surface_Conditions\"]=='Data missing or out of range').sum())\n",
    "print(\"Road_Type\",\":\",(dataset[\"Road_Type\"]=='Unknown').sum())\n",
    "print(\"Special_Conditions_at_Site\",\":\",(dataset[\"Special_Conditions_at_Site\"]=='Data missing or out of range').sum())\n",
    "print(\"Urban_or_Rural_Area\",\":\",(dataset[\"Urban_or_Rural_Area\"]=='Unallocated').sum())\n",
    "print(\"Weather_Conditions\",\":\",(dataset[\"Weather_Conditions\"].isin(['Other','Unknown','Data missing or out of range'])).sum())\n",
    "print(\"Age_Band_of_Driver\",\":\",(dataset[\"Age_Band_of_Driver\"].isin(['Data missing or out of range','11 - 15','6 - 10','0 - 5'])).sum())\n",
    "print(\"Driver_Home_Area_Type\",\":\",(dataset[\"Driver_Home_Area_Type\"]=='Data missing or out of range').sum())\n",
    "print(\"Hit_Object_in_Carriageway\",\":\",(dataset[\"Hit_Object_in_Carriageway\"]=='Data missing or out of range').sum())\n",
    "print(\"Hit_Object_off_Carriageway\",\":\",(dataset[\"Hit_Object_off_Carriageway\"]=='Data missing or out of range').sum())\n",
    "print(\"Journey_Purpose_of_Driver\",\":\",(dataset[\"Journey_Purpose_of_Driver\"].isin(['Other/Not known (2005-10)','Data missing or out of range','Not known','Other'])).sum())\n",
    "print(\"Junction_Location\",\":\",(dataset[\"Junction_Location\"]=='Data missing or out of range').sum())\n",
    "print(\"Sex_of_Driver\",\":\",(dataset[\"Sex_of_Driver\"].isin(['Not known','Data missing or out of range'])).sum())\n",
    "print(\"Skidding_and_Overturning\",\":\",(dataset[\"Skidding_and_Overturning\"]=='Data missing or out of range').sum())\n",
    "print(\"Towing_and_Articulation\",\":\",(dataset[\"Towing_and_Articulation\"]=='Data missing or out of range').sum())\n",
    "print(\"Vehicle_Leaving_Carriageway\",\":\",(dataset[\"Vehicle_Leaving_Carriageway\"]=='Data missing or out of range').sum())\n",
    "print(\"Vehicle_Manoeuvre\",\":\",(dataset[\"Vehicle_Manoeuvre\"]=='Data missing or out of range').sum())\n",
    "print(\"Was_Vehicle_Left_Hand_Drive\",\":\",(dataset[\"Was_Vehicle_Left_Hand_Drive\"]=='Data missing or out of range').sum())\n",
    "print(\"X1st_Point_of_Impact\",\":\",(dataset[\"X1st_Point_of_Impact\"]=='Data missing or out of range').sum())\n"
   ]
  },
  {
   "cell_type": "markdown",
   "metadata": {},
   "source": [
    "As with nulls, we will delete columns that contain mostly meaningless data. Otherwise, we will remove records with remaining meaningless values."
   ]
  },
  {
   "cell_type": "code",
   "execution_count": 21,
   "metadata": {},
   "outputs": [],
   "source": [
    "#drop variables that are unnecessary\n",
    "dataset.drop(\"1st_Road_Class\", axis=1, inplace=True)\n",
    "dataset.drop(\"Junction_Control\", axis=1, inplace=True)\n",
    "dataset.drop(\"Journey_Purpose_of_Driver\", axis=1, inplace=True)\n"
   ]
  },
  {
   "cell_type": "code",
   "execution_count": 22,
   "metadata": {},
   "outputs": [
    {
     "data": {
      "text/plain": [
       "(1555129, 46)"
      ]
     },
     "execution_count": 22,
     "metadata": {},
     "output_type": "execute_result"
    }
   ],
   "source": [
    "dataset.shape"
   ]
  },
  {
   "cell_type": "code",
   "execution_count": 23,
   "metadata": {},
   "outputs": [],
   "source": [
    "#otherwise drop records with meaningless data\n",
    "dataset=dataset[dataset[\"Carriageway_Hazards\"]!='Data missing or out of range']\n",
    "dataset=dataset[dataset[\"Junction_Detail\"]!='Data missing or out of range']\n",
    "dataset=dataset[dataset[\"Light_Conditions\"]!='Data missing or out of range']\n",
    "dataset=dataset[dataset[\"Road_Surface_Conditions\"]!='Data missing or out of range']\n",
    "dataset=dataset[dataset[\"Road_Type\"]!='Unknown']\n",
    "dataset=dataset[dataset[\"Special_Conditions_at_Site\"]!='Data missing or out of range']\n",
    "dataset=dataset[dataset[\"Urban_or_Rural_Area\"]!='Unallocated']\n",
    "dataset=dataset[~dataset[\"Weather_Conditions\"].isin(['Other','Unknown','Data missing or out of range'])]\n",
    "dataset=dataset[~dataset[\"Age_Band_of_Driver\"].isin(['Data missing or out of range','11 - 15','6 - 10','0 - 5'])]\n",
    "dataset=dataset[dataset[\"Driver_Home_Area_Type\"]!='Data missing or out of range']\n",
    "dataset=dataset[dataset[\"Hit_Object_in_Carriageway\"]!='Data missing or out of range']\n",
    "dataset=dataset[dataset[\"Hit_Object_off_Carriageway\"]!='Data missing or out of range']\n",
    "dataset=dataset[dataset[\"Junction_Location\"]!='Data missing or out of range']\n",
    "dataset=dataset[~dataset[\"Sex_of_Driver\"].isin(['Not known','Data missing or out of range'])]\n",
    "dataset=dataset[dataset[\"Skidding_and_Overturning\"]!='Data missing or out of range']\n",
    "dataset=dataset[dataset[\"Towing_and_Articulation\"]!='Data missing or out of range']\n",
    "dataset=dataset[dataset[\"Vehicle_Leaving_Carriageway\"]!='Data missing or out of range']\n",
    "dataset=dataset[dataset[\"Vehicle_Manoeuvre\"]!='Data missing or out of range']\n",
    "dataset=dataset[dataset[\"Was_Vehicle_Left_Hand_Drive\"]!='Data missing or out of range']\n",
    "dataset=dataset[dataset[\"X1st_Point_of_Impact\"]!='Data missing or out of range']"
   ]
  },
  {
   "cell_type": "code",
   "execution_count": 24,
   "metadata": {},
   "outputs": [
    {
     "data": {
      "text/plain": [
       "(1263105, 46)"
      ]
     },
     "execution_count": 24,
     "metadata": {},
     "output_type": "execute_result"
    }
   ],
   "source": [
    "dataset.shape"
   ]
  },
  {
   "cell_type": "code",
   "execution_count": 25,
   "metadata": {},
   "outputs": [],
   "source": [
    "# Create savepoint 2 \n",
    "dataset_bk2= dataset.copy()"
   ]
  },
  {
   "cell_type": "code",
   "execution_count": 26,
   "metadata": {},
   "outputs": [],
   "source": [
    "#create a new target variable column (numerical)\n",
    "dataset.loc[dataset.Accident_Severity !='Slight', 'Target_Severe_Indicator'] = 1\n",
    "dataset.loc[dataset.Accident_Severity =='Slight', 'Target_Severe_Indicator'] = 0\n"
   ]
  },
  {
   "cell_type": "code",
   "execution_count": 27,
   "metadata": {},
   "outputs": [
    {
     "data": {
      "text/plain": [
       "0.0    1084634\n",
       "1.0     178471\n",
       "Name: Target_Severe_Indicator, dtype: int64"
      ]
     },
     "execution_count": 27,
     "metadata": {},
     "output_type": "execute_result"
    },
    {
     "data": {
      "text/plain": [
       "Slight     1084634\n",
       "Serious     162443\n",
       "Fatal        16028\n",
       "Name: Accident_Severity, dtype: int64"
      ]
     },
     "execution_count": 27,
     "metadata": {},
     "output_type": "execute_result"
    }
   ],
   "source": [
    "dataset[\"Target_Severe_Indicator\"].value_counts()\n",
    "dataset[\"Accident_Severity\"].value_counts()"
   ]
  },
  {
   "cell_type": "code",
   "execution_count": 28,
   "metadata": {},
   "outputs": [
    {
     "data": {
      "text/plain": [
       "<matplotlib.axes._subplots.AxesSubplot at 0x17185f7c780>"
      ]
     },
     "execution_count": 28,
     "metadata": {},
     "output_type": "execute_result"
    },
    {
     "data": {
      "image/png": "[encoded data removed]",
      "text/plain": [
       "<Figure size 432x288 with 1 Axes>"
      ]
     },
     "metadata": {
      "needs_background": "light"
     },
     "output_type": "display_data"
    }
   ],
   "source": [
    "# Plot histrogram for the target class\n",
    "# 0 - Slight\n",
    "# 1 - Fatal+Serious\n",
    "sns.countplot('Target_Severe_Indicator', data = dataset)"
   ]
  },
  {
   "cell_type": "code",
   "execution_count": 29,
   "metadata": {},
   "outputs": [
    {
     "data": {
      "text/html": [
       "<div>\n",
       "<style scoped>\n",
       "    .dataframe tbody tr th:only-of-type {\n",
       "        vertical-align: middle;\n",
       "    }\n",
       "\n",
       "    .dataframe tbody tr th {\n",
       "        vertical-align: top;\n",
       "    }\n",
       "\n",
       "    .dataframe thead th {\n",
       "        text-align: right;\n",
       "    }\n",
       "</style>\n",
       "<table border=\"1\" class=\"dataframe\">\n",
       "  <thead>\n",
       "    <tr style=\"text-align: right;\">\n",
       "      <th></th>\n",
       "      <th>Time</th>\n",
       "      <th>Hour</th>\n",
       "      <th>Daytime</th>\n",
       "    </tr>\n",
       "  </thead>\n",
       "  <tbody>\n",
       "    <tr>\n",
       "      <th>2</th>\n",
       "      <td>10:35</td>\n",
       "      <td>10</td>\n",
       "      <td>office hours (10-15)</td>\n",
       "    </tr>\n",
       "    <tr>\n",
       "      <th>4</th>\n",
       "      <td>12:40</td>\n",
       "      <td>12</td>\n",
       "      <td>office hours (10-15)</td>\n",
       "    </tr>\n",
       "    <tr>\n",
       "      <th>5</th>\n",
       "      <td>12:40</td>\n",
       "      <td>12</td>\n",
       "      <td>office hours (10-15)</td>\n",
       "    </tr>\n",
       "    <tr>\n",
       "      <th>7</th>\n",
       "      <td>20:40</td>\n",
       "      <td>20</td>\n",
       "      <td>evening (19-23)</td>\n",
       "    </tr>\n",
       "    <tr>\n",
       "      <th>8</th>\n",
       "      <td>17:35</td>\n",
       "      <td>17</td>\n",
       "      <td>afternoon rush (15-19)</td>\n",
       "    </tr>\n",
       "    <tr>\n",
       "      <th>9</th>\n",
       "      <td>00:42</td>\n",
       "      <td>0</td>\n",
       "      <td>night (23-5)</td>\n",
       "    </tr>\n",
       "    <tr>\n",
       "      <th>11</th>\n",
       "      <td>05:01</td>\n",
       "      <td>5</td>\n",
       "      <td>morning rush (5-10)</td>\n",
       "    </tr>\n",
       "    <tr>\n",
       "      <th>12</th>\n",
       "      <td>05:01</td>\n",
       "      <td>5</td>\n",
       "      <td>morning rush (5-10)</td>\n",
       "    </tr>\n",
       "  </tbody>\n",
       "</table>\n",
       "</div>"
      ],
      "text/plain": [
       "     Time  Hour                 Daytime\n",
       "2   10:35    10    office hours (10-15)\n",
       "4   12:40    12    office hours (10-15)\n",
       "5   12:40    12    office hours (10-15)\n",
       "7   20:40    20         evening (19-23)\n",
       "8   17:35    17  afternoon rush (15-19)\n",
       "9   00:42     0            night (23-5)\n",
       "11  05:01     5     morning rush (5-10)\n",
       "12  05:01     5     morning rush (5-10)"
      ]
     },
     "execution_count": 29,
     "metadata": {},
     "output_type": "execute_result"
    }
   ],
   "source": [
    "#create new column for time of day category (use Kevin's code for this)\n",
    "\n",
    "# define a function that turns the hours into daytime groups\n",
    "# !!!! Source: https://www.kaggle.com/brittabettendorf/visual-analysis-eda !!!!\n",
    "def when_was_it(hour):\n",
    "    if hour >= 5 and hour < 10:\n",
    "        return \"morning rush (5-10)\"\n",
    "    elif hour >= 10 and hour < 15:\n",
    "        return \"office hours (10-15)\"\n",
    "    elif hour >= 15 and hour < 19:\n",
    "        return \"afternoon rush (15-19)\"\n",
    "    elif hour >= 19 and hour < 23:\n",
    "        return \"evening (19-23)\"\n",
    "    else:\n",
    "        return \"night (23-5)\"\n",
    "    \n",
    "# slice first and second string from time column\n",
    "dataset['Hour'] = dataset['Time'].str[0:2]\n",
    "\n",
    "# convert new column to numeric datetype\n",
    "dataset['Hour'] = pd.to_numeric(dataset['Hour'])\n",
    "\n",
    "# drop null values in our new column\n",
    "dataset = dataset.dropna(subset=['Hour'])\n",
    "\n",
    "# cast to integer values\n",
    "dataset['Hour'] = dataset['Hour'].astype('int')\n",
    "\n",
    "# apply thus function to our temporary hour column\n",
    "dataset['Daytime'] = dataset['Hour'].apply(when_was_it)\n",
    "dataset[['Time', 'Hour', 'Daytime']].head(8)"
   ]
  },
  {
   "cell_type": "code",
   "execution_count": null,
   "metadata": {},
   "outputs": [],
   "source": [
    "dataset.info()"
   ]
  },
  {
   "cell_type": "code",
   "execution_count": 31,
   "metadata": {},
   "outputs": [],
   "source": [
    "#dataset.drop(\"Did_Police_Officer_Attend_Scene_of_Accident\", axis=1, inplace=True)\n",
    "dataset.drop(\"Police_Force\", axis=1, inplace=True)\n",
    "\n",
    "#drop Time, Hour, as Daytime is sufficient \n",
    "dataset.drop(\"Time\", axis=1, inplace=True)\n",
    "dataset.drop(\"Hour\", axis=1, inplace=True)\n",
    "dataset.drop(\"Year_y\", axis=1, inplace=True)\n"
   ]
  },
  {
   "cell_type": "code",
   "execution_count": 32,
   "metadata": {},
   "outputs": [],
   "source": [
    "#since 'model' is a more detailed version of 'make', drop 'model' and keep 'make'\n",
    "dataset.drop(\"model\", axis=1, inplace=True)\n",
    "\n",
    "#we can drop inscotland, as we already have sufficient location data for modelling\n",
    "dataset.drop(\"InScotland\", axis=1, inplace=True)\n",
    "\n",
    "#we can drop 'Vehicle_reference', due to high correlation with 'Number_of_Vehicles'\n",
    "dataset.drop(\"Vehicle_Reference\", axis=1, inplace=True)\n",
    "\n",
    "#we can drop 'Local_Authority_(District)' since it is a more detailed version of 'Local_Authority_(Highway)'\n",
    "dataset.drop(\"Local_Authority_(District)\", axis=1, inplace=True)\n",
    "\n"
   ]
  },
  {
   "cell_type": "code",
   "execution_count": 33,
   "metadata": {},
   "outputs": [
    {
     "data": {
      "text/plain": [
       "(1263105, 41)"
      ]
     },
     "execution_count": 33,
     "metadata": {},
     "output_type": "execute_result"
    }
   ],
   "source": [
    "dataset.shape"
   ]
  },
  {
   "cell_type": "code",
   "execution_count": 34,
   "metadata": {},
   "outputs": [
    {
     "data": {
      "text/plain": [
       "array([[ 1.        , -0.00106481],\n",
       "       [-0.00106481,  1.        ]])"
      ]
     },
     "execution_count": 34,
     "metadata": {},
     "output_type": "execute_result"
    }
   ],
   "source": [
    "#check correlation between 'Was_Vehicle_Left_Hand_Drive' and  'Target_Severe_Indicator'\n",
    "\n",
    "dataset.loc[dataset['Was_Vehicle_Left_Hand_Drive'] == 'Yes', 'Was_Vehicle_Left_Hand_Drive_test'] = 1\n",
    "dataset.loc[dataset['Was_Vehicle_Left_Hand_Drive'] == 'No', 'Was_Vehicle_Left_Hand_Drive_test'] = 0\n",
    "\n",
    "x=dataset['Target_Severe_Indicator'].values\n",
    "y=dataset['Was_Vehicle_Left_Hand_Drive_test'].values\n",
    "np.corrcoef(x,y)\n",
    "\n",
    "dataset.drop(\"Was_Vehicle_Left_Hand_Drive_test\", axis=1, inplace=True)\n",
    "\n",
    "#since very low correlation to target, let's drop 'Was_Vehicle_Left_Hand_Drive' due to imbalance in values\n",
    "dataset.drop(\"Was_Vehicle_Left_Hand_Drive\", axis=1, inplace=True)\n"
   ]
  },
  {
   "cell_type": "code",
   "execution_count": 35,
   "metadata": {},
   "outputs": [],
   "source": [
    "# change pedestrian crossing variables to categoric \n",
    "\n",
    "dataset.loc[dataset['Pedestrian_Crossing-Human_Control'] ==0, 'Ped_Cross_Human'] = 'None within 50 metres'\n",
    "dataset.loc[dataset['Pedestrian_Crossing-Human_Control'] ==1, 'Ped_Cross_Human'] = 'Control by school crossing patrol'\n",
    "dataset.loc[dataset['Pedestrian_Crossing-Human_Control'] ==2, 'Ped_Cross_Human'] = 'Control by other authorised person'\n",
    "\n",
    "\n",
    "dataset.loc[dataset['Pedestrian_Crossing-Physical_Facilities'] ==0, 'Ped_Cross_Physical'] = 'No physical crossing facilities within 50 metres'\n",
    "dataset.loc[dataset['Pedestrian_Crossing-Physical_Facilities'] ==1, 'Ped_Cross_Physical'] = 'Zebra'\n",
    "dataset.loc[dataset['Pedestrian_Crossing-Physical_Facilities'] ==4, 'Ped_Cross_Physical'] = 'Pelican, puffin, toucan or similar non-junction pedestrian light crossing'\n",
    "dataset.loc[dataset['Pedestrian_Crossing-Physical_Facilities'] ==5, 'Ped_Cross_Physical'] = 'Pedestrian phase at traffic signal junction'\n",
    "dataset.loc[dataset['Pedestrian_Crossing-Physical_Facilities'] ==7, 'Ped_Cross_Physical'] = 'Footbridge or subway'\n",
    "dataset.loc[dataset['Pedestrian_Crossing-Physical_Facilities'] ==8, 'Ped_Cross_Physical'] = 'Central refuge'\n",
    "\n",
    "#and then we can drop the original pedestrian crossing variables\n",
    "dataset.drop(\"Pedestrian_Crossing-Human_Control\", axis=1, inplace=True)\n",
    "dataset.drop(\"Pedestrian_Crossing-Physical_Facilities\", axis=1, inplace=True)"
   ]
  },
  {
   "cell_type": "code",
   "execution_count": 36,
   "metadata": {},
   "outputs": [
    {
     "data": {
      "text/plain": [
       "(1263105, 40)"
      ]
     },
     "execution_count": 36,
     "metadata": {},
     "output_type": "execute_result"
    }
   ],
   "source": [
    "dataset.shape"
   ]
  },
  {
   "cell_type": "code",
   "execution_count": 37,
   "metadata": {},
   "outputs": [
    {
     "name": "stdout",
     "output_type": "stream",
     "text": [
      "<class 'pandas.core.frame.DataFrame'>\n",
      "Int64Index: 1263105 entries, 2 to 2058407\n",
      "Data columns (total 40 columns):\n",
      "Accident_Severity                              1263105 non-null object\n",
      "Carriageway_Hazards                            1263105 non-null object\n",
      "Date                                           1263105 non-null datetime64[ns]\n",
      "Day_of_Week                                    1263105 non-null object\n",
      "Did_Police_Officer_Attend_Scene_of_Accident    1263105 non-null float64\n",
      "Junction_Detail                                1263105 non-null object\n",
      "Latitude                                       1263105 non-null float64\n",
      "Light_Conditions                               1263105 non-null object\n",
      "Local_Authority_(Highway)                      1263105 non-null object\n",
      "Longitude                                      1263105 non-null float64\n",
      "Number_of_Casualties                           1263105 non-null int64\n",
      "Number_of_Vehicles                             1263105 non-null int64\n",
      "Road_Surface_Conditions                        1263105 non-null object\n",
      "Road_Type                                      1263105 non-null object\n",
      "Special_Conditions_at_Site                     1263105 non-null object\n",
      "Speed_limit                                    1263105 non-null float64\n",
      "Urban_or_Rural_Area                            1263105 non-null object\n",
      "Weather_Conditions                             1263105 non-null object\n",
      "Year_x                                         1263105 non-null int64\n",
      "Age_Band_of_Driver                             1263105 non-null object\n",
      "Age_of_Vehicle                                 1263105 non-null float64\n",
      "Driver_Home_Area_Type                          1263105 non-null object\n",
      "Engine_Capacity_.CC.                           1263105 non-null float64\n",
      "Hit_Object_in_Carriageway                      1263105 non-null object\n",
      "Hit_Object_off_Carriageway                     1263105 non-null object\n",
      "Junction_Location                              1263105 non-null object\n",
      "make                                           1263105 non-null object\n",
      "Propulsion_Code                                1263105 non-null object\n",
      "Sex_of_Driver                                  1263105 non-null object\n",
      "Skidding_and_Overturning                       1263105 non-null object\n",
      "Towing_and_Articulation                        1263105 non-null object\n",
      "Vehicle_Leaving_Carriageway                    1263105 non-null object\n",
      "Vehicle_Location.Restricted_Lane               1263105 non-null float64\n",
      "Vehicle_Manoeuvre                              1263105 non-null object\n",
      "Vehicle_Type                                   1263105 non-null object\n",
      "X1st_Point_of_Impact                           1263105 non-null object\n",
      "Target_Severe_Indicator                        1263105 non-null float64\n",
      "Daytime                                        1263105 non-null object\n",
      "Ped_Cross_Human                                1263105 non-null object\n",
      "Ped_Cross_Physical                             1263105 non-null object\n",
      "dtypes: datetime64[ns](1), float64(8), int64(3), object(28)\n",
      "memory usage: 395.1+ MB\n"
     ]
    }
   ],
   "source": [
    "dataset.info()"
   ]
  },
  {
   "cell_type": "code",
   "execution_count": 38,
   "metadata": {},
   "outputs": [],
   "source": [
    "# Savepoint 3 - To be used for EDA + Tablaue analysis\n",
    "dataset_bk3 = dataset.copy()"
   ]
  },
  {
   "cell_type": "code",
   "execution_count": 39,
   "metadata": {},
   "outputs": [
    {
     "data": {
      "text/plain": [
       "(1263105, 40)"
      ]
     },
     "execution_count": 39,
     "metadata": {},
     "output_type": "execute_result"
    }
   ],
   "source": [
    "dataset_bk3.shape"
   ]
  },
  {
   "cell_type": "code",
   "execution_count": 40,
   "metadata": {},
   "outputs": [],
   "source": [
    "# Cut down data size to be able to save dataframe into CSV (memory limitations)\n",
    "np.random.seed(150)\n",
    "\n",
    "remove_n = 263105 #Sample size to remove from original dataset\n",
    "df = dataset\n",
    "drop_indices = np.random.choice(df.index, remove_n, replace=False)\n",
    "df_subset_csv = df.drop(drop_indices)"
   ]
  },
  {
   "cell_type": "code",
   "execution_count": 41,
   "metadata": {},
   "outputs": [
    {
     "data": {
      "text/plain": [
       "(1000000, 40)"
      ]
     },
     "execution_count": 41,
     "metadata": {},
     "output_type": "execute_result"
    }
   ],
   "source": [
    "df_subset_csv.shape"
   ]
  },
  {
   "cell_type": "code",
   "execution_count": 124,
   "metadata": {},
   "outputs": [],
   "source": [
    "# Copy dataframe to CSV file for EDA (Tableau + Power BI) --- UNCOMMENT if you require the CSV\n",
    "\n",
    "(r'\\Code\\Cleaned_Data.csv', index = None, header = True)"
   ]
  },
  {
   "cell_type": "code",
   "execution_count": 42,
   "metadata": {},
   "outputs": [],
   "source": [
    "# Not required after EDA analysis is complete\n",
    "\n",
    "#!!!!!!!!!!!!!!!!!!!!!!!!!!!!!!!!!!!!!!!!!!!!!!!!!!!!!!!!!!!!!!!!!!!!!!!!!!!!!\n",
    "#drop Date, Year_x, Year_y as they won't be useful as they're in the past\n",
    "dataset.drop(\"Date\", axis=1, inplace=True)\n",
    "dataset.drop(\"Year_x\", axis=1, inplace=True)\n",
    "\n",
    "#drop Accident_Severity as we have replaced it with Target_Severe_Indicator \n",
    "dataset.drop(\"Accident_Severity\", axis=1, inplace=True)\n",
    "#!!!!!!!!!!!!!!!!!!!!!!!!!!!!!!!!!!!!!!!!!!!!!!!!!!!!!!!!!!!!!!!!!!!!!!!!!!!!!"
   ]
  },
  {
   "cell_type": "code",
   "execution_count": 43,
   "metadata": {},
   "outputs": [
    {
     "data": {
      "text/plain": [
       "array(['46 - 55', '26 - 35', '36 - 45', '66 - 75', '56 - 65', '21 - 25',\n",
       "       '16 - 20', 'Over 75'], dtype=object)"
      ]
     },
     "execution_count": 43,
     "metadata": {},
     "output_type": "execute_result"
    }
   ],
   "source": [
    "#Change categorical variables with order to numeric\n",
    "dataset['Age_Band_of_Driver'].unique()\n",
    "\n",
    "dataset.loc[dataset['Age_Band_of_Driver'] =='16 - 20', 'Age_Band_of_Driver_order'] = 1\n",
    "dataset.loc[dataset['Age_Band_of_Driver'] =='21 - 25', 'Age_Band_of_Driver_order'] = 2\n",
    "dataset.loc[dataset['Age_Band_of_Driver'] =='26 - 35', 'Age_Band_of_Driver_order'] = 3\n",
    "dataset.loc[dataset['Age_Band_of_Driver'] =='36 - 45', 'Age_Band_of_Driver_order'] = 4\n",
    "dataset.loc[dataset['Age_Band_of_Driver'] =='46 - 55', 'Age_Band_of_Driver_order'] = 5\n",
    "dataset.loc[dataset['Age_Band_of_Driver'] =='56 - 65', 'Age_Band_of_Driver_order'] = 6\n",
    "dataset.loc[dataset['Age_Band_of_Driver'] =='66 - 75', 'Age_Band_of_Driver_order'] = 7\n",
    "dataset.loc[dataset['Age_Band_of_Driver'] =='Over 75', 'Age_Band_of_Driver_order'] = 8\n",
    "\n",
    "dataset.drop(\"Age_Band_of_Driver\", axis=1, inplace=True)"
   ]
  },
  {
   "cell_type": "code",
   "execution_count": null,
   "metadata": {},
   "outputs": [],
   "source": []
  },
  {
   "cell_type": "markdown",
   "metadata": {},
   "source": [
    "### This completes the majority of data cleansing steps. 'Accidents_Data_Analysis' python file uses this *Cleaned_Data.csv* for all further analysis"
   ]
  }
 ],
 "metadata": {
  "kernelspec": {
   "display_name": "Python 3",
   "language": "python",
   "name": "python3"
  },
  "language_info": {
   "codemirror_mode": {
    "name": "ipython",
    "version": 3
   },
   "file_extension": ".py",
   "mimetype": "text/x-python",
   "name": "python",
   "nbconvert_exporter": "python",
   "pygments_lexer": "ipython3",
   "version": "3.7.0"
  }
 },
 "nbformat": 4,
 "nbformat_minor": 2
}
